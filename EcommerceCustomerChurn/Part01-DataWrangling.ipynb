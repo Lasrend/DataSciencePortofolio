{
 "cells": [
  {
   "cell_type": "markdown",
   "metadata": {},
   "source": [
    "# Part01 - Data Wrangling"
   ]
  },
  {
   "cell_type": "markdown",
   "metadata": {},
   "source": [
    "## Introduction:\n",
    "In this notebook, we are going to load the data, clean the data, and do data preprocessing or that process can be called as Data Wrangling. Data Wrangling is needed to make data more appropriate and valuable for further analysis. Beside that, we will need Exploratory Data Analysis (EDA) to draw insight that we will use in data preprocessing step. <p>\n",
    "\n",
    "<em>Disclaimer: This project is not non-profit and freely accessible. This project only for learning purpose only</em>"
   ]
  },
  {
   "cell_type": "markdown",
   "metadata": {},
   "source": [
    "## Problem Statement:\n",
    "Before we go any further, the first thing that I will do is restate our problem statement to clarify the problems we face. This is an important thing when we want to make some Data Science Project because sometime we forget about what we want to aim in project so the results we obtain are not what we want. <p>\n",
    "\n",
    "<ul>\n",
    "    <li><strong>Statement 1: What aspects/feature are most important to prevent customer churn?</strong></li>\n",
    "        <ul>\n",
    "            <li>Value: The most important aspects/feature </li>\n",
    "            <li>Goal: Prevent customer churn </li>\n",
    "        </ul>\n",
    "    <li><strong>Statement 2: How to predict customer churn before it happens in order to minimize losses due to customer churn? </strong></li>\n",
    "        <ul>\n",
    "            <li>Value: Chance of customer churn</li>\n",
    "            <li>Goal: Minimize losses due to customer churn</li>\n",
    "        </ul>\n",
    "</ul> <p>\n",
    "\n",
    "Even though at this time there are only 2 problem statements, in the future it is possible that problem statements will increase because of my curiosity. However, main problem statement are those 2 problem statements."
   ]
  },
  {
   "cell_type": "markdown",
   "metadata": {},
   "source": [
    "## Load Library:"
   ]
  },
  {
   "cell_type": "code",
   "execution_count": 23,
   "metadata": {},
   "outputs": [],
   "source": [
    "# Data\n",
    "import numpy as np\n",
    "import pandas as pd\n",
    "\n",
    "# Visualization\n",
    "import matplotlib.pyplot as plt\n",
    "import seaborn as sns\n",
    "\n",
    "# Warnings\n",
    "import warnings\n",
    "warnings.filterwarnings('ignore')"
   ]
  },
  {
   "cell_type": "markdown",
   "metadata": {},
   "source": [
    "## Load Dataset:\n",
    "For our dataset, can be downloaded for free in <a href = \"https://www.kaggle.com/ankitverma2010/ecommerce-customer-churn-analysis-and-prediction\">Kaggle</a>. This dataset was created by <a href = \"https://www.kaggle.com/ankitverma2010\">Ankit Verma</a> in January 2021. Sadly, this dataset not real world dataset, but Ankit Verma had created this dataset resembles a real world dataset for learning purpose. Thanks to him. <p>\n",
    "Let's load our dataset. This dataset is in excel format. There is 2 sheet that we must pay attention. \"Data Dict\" sheet is talking about data description and \"E comm\" sheet is the data we will use. To read our dataset we need pandas library"
   ]
  },
  {
   "cell_type": "code",
   "execution_count": 24,
   "metadata": {},
   "outputs": [
    {
     "data": {
      "text/html": [
       "<div>\n",
       "<style scoped>\n",
       "    .dataframe tbody tr th:only-of-type {\n",
       "        vertical-align: middle;\n",
       "    }\n",
       "\n",
       "    .dataframe tbody tr th {\n",
       "        vertical-align: top;\n",
       "    }\n",
       "\n",
       "    .dataframe thead th {\n",
       "        text-align: right;\n",
       "    }\n",
       "</style>\n",
       "<table border=\"1\" class=\"dataframe\">\n",
       "  <thead>\n",
       "    <tr style=\"text-align: right;\">\n",
       "      <th></th>\n",
       "      <th>CustomerID</th>\n",
       "      <th>Churn</th>\n",
       "      <th>Tenure</th>\n",
       "      <th>PreferredLoginDevice</th>\n",
       "      <th>CityTier</th>\n",
       "      <th>WarehouseToHome</th>\n",
       "      <th>PreferredPaymentMode</th>\n",
       "      <th>Gender</th>\n",
       "      <th>HourSpendOnApp</th>\n",
       "      <th>NumberOfDeviceRegistered</th>\n",
       "      <th>PreferedOrderCat</th>\n",
       "      <th>SatisfactionScore</th>\n",
       "      <th>MaritalStatus</th>\n",
       "      <th>NumberOfAddress</th>\n",
       "      <th>Complain</th>\n",
       "      <th>OrderAmountHikeFromlastYear</th>\n",
       "      <th>CouponUsed</th>\n",
       "      <th>OrderCount</th>\n",
       "      <th>DaySinceLastOrder</th>\n",
       "      <th>CashbackAmount</th>\n",
       "    </tr>\n",
       "  </thead>\n",
       "  <tbody>\n",
       "    <tr>\n",
       "      <th>0</th>\n",
       "      <td>50001</td>\n",
       "      <td>1</td>\n",
       "      <td>4.0</td>\n",
       "      <td>Mobile Phone</td>\n",
       "      <td>3</td>\n",
       "      <td>6.0</td>\n",
       "      <td>Debit Card</td>\n",
       "      <td>Female</td>\n",
       "      <td>3.0</td>\n",
       "      <td>3</td>\n",
       "      <td>Laptop &amp; Accessory</td>\n",
       "      <td>2</td>\n",
       "      <td>Single</td>\n",
       "      <td>9</td>\n",
       "      <td>1</td>\n",
       "      <td>11.0</td>\n",
       "      <td>1.0</td>\n",
       "      <td>1.0</td>\n",
       "      <td>5.0</td>\n",
       "      <td>159.93</td>\n",
       "    </tr>\n",
       "    <tr>\n",
       "      <th>1</th>\n",
       "      <td>50002</td>\n",
       "      <td>1</td>\n",
       "      <td>NaN</td>\n",
       "      <td>Phone</td>\n",
       "      <td>1</td>\n",
       "      <td>8.0</td>\n",
       "      <td>UPI</td>\n",
       "      <td>Male</td>\n",
       "      <td>3.0</td>\n",
       "      <td>4</td>\n",
       "      <td>Mobile</td>\n",
       "      <td>3</td>\n",
       "      <td>Single</td>\n",
       "      <td>7</td>\n",
       "      <td>1</td>\n",
       "      <td>15.0</td>\n",
       "      <td>0.0</td>\n",
       "      <td>1.0</td>\n",
       "      <td>0.0</td>\n",
       "      <td>120.90</td>\n",
       "    </tr>\n",
       "    <tr>\n",
       "      <th>2</th>\n",
       "      <td>50003</td>\n",
       "      <td>1</td>\n",
       "      <td>NaN</td>\n",
       "      <td>Phone</td>\n",
       "      <td>1</td>\n",
       "      <td>30.0</td>\n",
       "      <td>Debit Card</td>\n",
       "      <td>Male</td>\n",
       "      <td>2.0</td>\n",
       "      <td>4</td>\n",
       "      <td>Mobile</td>\n",
       "      <td>3</td>\n",
       "      <td>Single</td>\n",
       "      <td>6</td>\n",
       "      <td>1</td>\n",
       "      <td>14.0</td>\n",
       "      <td>0.0</td>\n",
       "      <td>1.0</td>\n",
       "      <td>3.0</td>\n",
       "      <td>120.28</td>\n",
       "    </tr>\n",
       "    <tr>\n",
       "      <th>3</th>\n",
       "      <td>50004</td>\n",
       "      <td>1</td>\n",
       "      <td>0.0</td>\n",
       "      <td>Phone</td>\n",
       "      <td>3</td>\n",
       "      <td>15.0</td>\n",
       "      <td>Debit Card</td>\n",
       "      <td>Male</td>\n",
       "      <td>2.0</td>\n",
       "      <td>4</td>\n",
       "      <td>Laptop &amp; Accessory</td>\n",
       "      <td>5</td>\n",
       "      <td>Single</td>\n",
       "      <td>8</td>\n",
       "      <td>0</td>\n",
       "      <td>23.0</td>\n",
       "      <td>0.0</td>\n",
       "      <td>1.0</td>\n",
       "      <td>3.0</td>\n",
       "      <td>134.07</td>\n",
       "    </tr>\n",
       "    <tr>\n",
       "      <th>4</th>\n",
       "      <td>50005</td>\n",
       "      <td>1</td>\n",
       "      <td>0.0</td>\n",
       "      <td>Phone</td>\n",
       "      <td>1</td>\n",
       "      <td>12.0</td>\n",
       "      <td>CC</td>\n",
       "      <td>Male</td>\n",
       "      <td>NaN</td>\n",
       "      <td>3</td>\n",
       "      <td>Mobile</td>\n",
       "      <td>5</td>\n",
       "      <td>Single</td>\n",
       "      <td>3</td>\n",
       "      <td>0</td>\n",
       "      <td>11.0</td>\n",
       "      <td>1.0</td>\n",
       "      <td>1.0</td>\n",
       "      <td>3.0</td>\n",
       "      <td>129.60</td>\n",
       "    </tr>\n",
       "  </tbody>\n",
       "</table>\n",
       "</div>"
      ],
      "text/plain": [
       "   CustomerID  Churn  Tenure PreferredLoginDevice  CityTier  WarehouseToHome  \\\n",
       "0       50001      1     4.0         Mobile Phone         3              6.0   \n",
       "1       50002      1     NaN                Phone         1              8.0   \n",
       "2       50003      1     NaN                Phone         1             30.0   \n",
       "3       50004      1     0.0                Phone         3             15.0   \n",
       "4       50005      1     0.0                Phone         1             12.0   \n",
       "\n",
       "  PreferredPaymentMode  Gender  HourSpendOnApp  NumberOfDeviceRegistered  \\\n",
       "0           Debit Card  Female             3.0                         3   \n",
       "1                  UPI    Male             3.0                         4   \n",
       "2           Debit Card    Male             2.0                         4   \n",
       "3           Debit Card    Male             2.0                         4   \n",
       "4                   CC    Male             NaN                         3   \n",
       "\n",
       "     PreferedOrderCat  SatisfactionScore MaritalStatus  NumberOfAddress  \\\n",
       "0  Laptop & Accessory                  2        Single                9   \n",
       "1              Mobile                  3        Single                7   \n",
       "2              Mobile                  3        Single                6   \n",
       "3  Laptop & Accessory                  5        Single                8   \n",
       "4              Mobile                  5        Single                3   \n",
       "\n",
       "   Complain  OrderAmountHikeFromlastYear  CouponUsed  OrderCount  \\\n",
       "0         1                         11.0         1.0         1.0   \n",
       "1         1                         15.0         0.0         1.0   \n",
       "2         1                         14.0         0.0         1.0   \n",
       "3         0                         23.0         0.0         1.0   \n",
       "4         0                         11.0         1.0         1.0   \n",
       "\n",
       "   DaySinceLastOrder  CashbackAmount  \n",
       "0                5.0          159.93  \n",
       "1                0.0          120.90  \n",
       "2                3.0          120.28  \n",
       "3                3.0          134.07  \n",
       "4                3.0          129.60  "
      ]
     },
     "execution_count": 24,
     "metadata": {},
     "output_type": "execute_result"
    }
   ],
   "source": [
    "dfUnc = pd.read_excel(\"E Commerce Dataset.xlsx\", sheet_name=\"E Comm\")\n",
    "dfUnc.head()"
   ]
  },
  {
   "cell_type": "code",
   "execution_count": 25,
   "metadata": {},
   "outputs": [
    {
     "data": {
      "text/html": [
       "<div>\n",
       "<style scoped>\n",
       "    .dataframe tbody tr th:only-of-type {\n",
       "        vertical-align: middle;\n",
       "    }\n",
       "\n",
       "    .dataframe tbody tr th {\n",
       "        vertical-align: top;\n",
       "    }\n",
       "\n",
       "    .dataframe thead th {\n",
       "        text-align: right;\n",
       "    }\n",
       "</style>\n",
       "<table border=\"1\" class=\"dataframe\">\n",
       "  <thead>\n",
       "    <tr style=\"text-align: right;\">\n",
       "      <th></th>\n",
       "      <th>CustomerID</th>\n",
       "      <th>Churn</th>\n",
       "      <th>Tenure</th>\n",
       "      <th>PreferredLoginDevice</th>\n",
       "      <th>CityTier</th>\n",
       "      <th>WarehouseToHome</th>\n",
       "      <th>PreferredPaymentMode</th>\n",
       "      <th>Gender</th>\n",
       "      <th>HourSpendOnApp</th>\n",
       "      <th>NumberOfDeviceRegistered</th>\n",
       "      <th>PreferedOrderCat</th>\n",
       "      <th>SatisfactionScore</th>\n",
       "      <th>MaritalStatus</th>\n",
       "      <th>NumberOfAddress</th>\n",
       "      <th>Complain</th>\n",
       "      <th>OrderAmountHikeFromlastYear</th>\n",
       "      <th>CouponUsed</th>\n",
       "      <th>OrderCount</th>\n",
       "      <th>DaySinceLastOrder</th>\n",
       "      <th>CashbackAmount</th>\n",
       "    </tr>\n",
       "  </thead>\n",
       "  <tbody>\n",
       "    <tr>\n",
       "      <th>5625</th>\n",
       "      <td>55626</td>\n",
       "      <td>0</td>\n",
       "      <td>10.0</td>\n",
       "      <td>Computer</td>\n",
       "      <td>1</td>\n",
       "      <td>30.0</td>\n",
       "      <td>Credit Card</td>\n",
       "      <td>Male</td>\n",
       "      <td>3.0</td>\n",
       "      <td>2</td>\n",
       "      <td>Laptop &amp; Accessory</td>\n",
       "      <td>1</td>\n",
       "      <td>Married</td>\n",
       "      <td>6</td>\n",
       "      <td>0</td>\n",
       "      <td>18.0</td>\n",
       "      <td>1.0</td>\n",
       "      <td>2.0</td>\n",
       "      <td>4.0</td>\n",
       "      <td>150.71</td>\n",
       "    </tr>\n",
       "    <tr>\n",
       "      <th>5626</th>\n",
       "      <td>55627</td>\n",
       "      <td>0</td>\n",
       "      <td>13.0</td>\n",
       "      <td>Mobile Phone</td>\n",
       "      <td>1</td>\n",
       "      <td>13.0</td>\n",
       "      <td>Credit Card</td>\n",
       "      <td>Male</td>\n",
       "      <td>3.0</td>\n",
       "      <td>5</td>\n",
       "      <td>Fashion</td>\n",
       "      <td>5</td>\n",
       "      <td>Married</td>\n",
       "      <td>6</td>\n",
       "      <td>0</td>\n",
       "      <td>16.0</td>\n",
       "      <td>1.0</td>\n",
       "      <td>2.0</td>\n",
       "      <td>NaN</td>\n",
       "      <td>224.91</td>\n",
       "    </tr>\n",
       "    <tr>\n",
       "      <th>5627</th>\n",
       "      <td>55628</td>\n",
       "      <td>0</td>\n",
       "      <td>1.0</td>\n",
       "      <td>Mobile Phone</td>\n",
       "      <td>1</td>\n",
       "      <td>11.0</td>\n",
       "      <td>Debit Card</td>\n",
       "      <td>Male</td>\n",
       "      <td>3.0</td>\n",
       "      <td>2</td>\n",
       "      <td>Laptop &amp; Accessory</td>\n",
       "      <td>4</td>\n",
       "      <td>Married</td>\n",
       "      <td>3</td>\n",
       "      <td>1</td>\n",
       "      <td>21.0</td>\n",
       "      <td>1.0</td>\n",
       "      <td>2.0</td>\n",
       "      <td>4.0</td>\n",
       "      <td>186.42</td>\n",
       "    </tr>\n",
       "    <tr>\n",
       "      <th>5628</th>\n",
       "      <td>55629</td>\n",
       "      <td>0</td>\n",
       "      <td>23.0</td>\n",
       "      <td>Computer</td>\n",
       "      <td>3</td>\n",
       "      <td>9.0</td>\n",
       "      <td>Credit Card</td>\n",
       "      <td>Male</td>\n",
       "      <td>4.0</td>\n",
       "      <td>5</td>\n",
       "      <td>Laptop &amp; Accessory</td>\n",
       "      <td>4</td>\n",
       "      <td>Married</td>\n",
       "      <td>4</td>\n",
       "      <td>0</td>\n",
       "      <td>15.0</td>\n",
       "      <td>2.0</td>\n",
       "      <td>2.0</td>\n",
       "      <td>9.0</td>\n",
       "      <td>178.90</td>\n",
       "    </tr>\n",
       "    <tr>\n",
       "      <th>5629</th>\n",
       "      <td>55630</td>\n",
       "      <td>0</td>\n",
       "      <td>8.0</td>\n",
       "      <td>Mobile Phone</td>\n",
       "      <td>1</td>\n",
       "      <td>15.0</td>\n",
       "      <td>Credit Card</td>\n",
       "      <td>Male</td>\n",
       "      <td>3.0</td>\n",
       "      <td>2</td>\n",
       "      <td>Laptop &amp; Accessory</td>\n",
       "      <td>3</td>\n",
       "      <td>Married</td>\n",
       "      <td>4</td>\n",
       "      <td>0</td>\n",
       "      <td>13.0</td>\n",
       "      <td>2.0</td>\n",
       "      <td>2.0</td>\n",
       "      <td>3.0</td>\n",
       "      <td>169.04</td>\n",
       "    </tr>\n",
       "  </tbody>\n",
       "</table>\n",
       "</div>"
      ],
      "text/plain": [
       "      CustomerID  Churn  Tenure PreferredLoginDevice  CityTier  \\\n",
       "5625       55626      0    10.0             Computer         1   \n",
       "5626       55627      0    13.0         Mobile Phone         1   \n",
       "5627       55628      0     1.0         Mobile Phone         1   \n",
       "5628       55629      0    23.0             Computer         3   \n",
       "5629       55630      0     8.0         Mobile Phone         1   \n",
       "\n",
       "      WarehouseToHome PreferredPaymentMode Gender  HourSpendOnApp  \\\n",
       "5625             30.0          Credit Card   Male             3.0   \n",
       "5626             13.0          Credit Card   Male             3.0   \n",
       "5627             11.0           Debit Card   Male             3.0   \n",
       "5628              9.0          Credit Card   Male             4.0   \n",
       "5629             15.0          Credit Card   Male             3.0   \n",
       "\n",
       "      NumberOfDeviceRegistered    PreferedOrderCat  SatisfactionScore  \\\n",
       "5625                         2  Laptop & Accessory                  1   \n",
       "5626                         5             Fashion                  5   \n",
       "5627                         2  Laptop & Accessory                  4   \n",
       "5628                         5  Laptop & Accessory                  4   \n",
       "5629                         2  Laptop & Accessory                  3   \n",
       "\n",
       "     MaritalStatus  NumberOfAddress  Complain  OrderAmountHikeFromlastYear  \\\n",
       "5625       Married                6         0                         18.0   \n",
       "5626       Married                6         0                         16.0   \n",
       "5627       Married                3         1                         21.0   \n",
       "5628       Married                4         0                         15.0   \n",
       "5629       Married                4         0                         13.0   \n",
       "\n",
       "      CouponUsed  OrderCount  DaySinceLastOrder  CashbackAmount  \n",
       "5625         1.0         2.0                4.0          150.71  \n",
       "5626         1.0         2.0                NaN          224.91  \n",
       "5627         1.0         2.0                4.0          186.42  \n",
       "5628         2.0         2.0                9.0          178.90  \n",
       "5629         2.0         2.0                3.0          169.04  "
      ]
     },
     "execution_count": 25,
     "metadata": {},
     "output_type": "execute_result"
    }
   ],
   "source": [
    "dfUnc.tail()"
   ]
  },
  {
   "cell_type": "markdown",
   "metadata": {},
   "source": [
    "## Info Dataset:\n",
    "It's very important to understand our dataset, the shape, what each feature represent, and the datatype for each feature. So let's see our dataset information before doing anything further."
   ]
  },
  {
   "cell_type": "code",
   "execution_count": 26,
   "metadata": {},
   "outputs": [
    {
     "name": "stdout",
     "output_type": "stream",
     "text": [
      "<class 'pandas.core.frame.DataFrame'>\n",
      "RangeIndex: 5630 entries, 0 to 5629\n",
      "Data columns (total 20 columns):\n",
      " #   Column                       Non-Null Count  Dtype  \n",
      "---  ------                       --------------  -----  \n",
      " 0   CustomerID                   5630 non-null   int64  \n",
      " 1   Churn                        5630 non-null   int64  \n",
      " 2   Tenure                       5366 non-null   float64\n",
      " 3   PreferredLoginDevice         5630 non-null   object \n",
      " 4   CityTier                     5630 non-null   int64  \n",
      " 5   WarehouseToHome              5379 non-null   float64\n",
      " 6   PreferredPaymentMode         5630 non-null   object \n",
      " 7   Gender                       5630 non-null   object \n",
      " 8   HourSpendOnApp               5375 non-null   float64\n",
      " 9   NumberOfDeviceRegistered     5630 non-null   int64  \n",
      " 10  PreferedOrderCat             5630 non-null   object \n",
      " 11  SatisfactionScore            5630 non-null   int64  \n",
      " 12  MaritalStatus                5630 non-null   object \n",
      " 13  NumberOfAddress              5630 non-null   int64  \n",
      " 14  Complain                     5630 non-null   int64  \n",
      " 15  OrderAmountHikeFromlastYear  5365 non-null   float64\n",
      " 16  CouponUsed                   5374 non-null   float64\n",
      " 17  OrderCount                   5372 non-null   float64\n",
      " 18  DaySinceLastOrder            5323 non-null   float64\n",
      " 19  CashbackAmount               5630 non-null   float64\n",
      "dtypes: float64(8), int64(7), object(5)\n",
      "memory usage: 879.8+ KB\n"
     ]
    }
   ],
   "source": [
    "dfUnc.info()"
   ]
  },
  {
   "cell_type": "markdown",
   "metadata": {},
   "source": [
    "## Explanation of Dataset:\n",
    "From dataset information, we know that our data has 5630 observations and 20 features. I think our observations not too big so we need be carefull everytime we want drop some observation.<p>\n",
    "Here is an explanation of our 20 dataset features:\n",
    "- <strong>CustomerID</strong>: Unique customer ID\n",
    "- <strong>Churn</strong>: Churn flag\n",
    "    - 1: churn customer\n",
    "    - 0: non churn customer\n",
    "- <strong>Tenure</strong>: Tenure of customer in organization\n",
    "- <strong>PreferredLoginDevice</strong>: Preferred login device of customer\n",
    "- <strong>CityTier</strong>: City tier of customer\n",
    "    - 1: Urban area\n",
    "    - 2: Rural area\n",
    "    - 3: Underdeveloped area\n",
    "- <strong>WarehouseToHomeDistance</strong>: Distance in between warehouse of customer\n",
    "- <strong>PreferredPaymentMode</strong>: Preferred payment method of customer\n",
    "- <strong>Gender</strong>: Gender of customer\n",
    "- <strong>HourSpendonApp</strong>: Number of hours spend on mobile application or website\n",
    "- <strong>PreferedOrderCat</strong>: Preferred order category of customer in last month\n",
    "- <strong>SatisfactionScore</strong>: Satisfactory score of customer on serivce\n",
    "- <strong>MaritalStatus</strong>: Marital status of customer\n",
    "- <strong>NumberOfAddress</strong>: Total number of added on particular customer\n",
    "- <strong>Complain</strong>: Any complaint has been raised in last month\n",
    "    - 1: made a complaint last month\n",
    "    - 0: never made a complaint last month\n",
    "- <strong>OrderAmountHikeFromLastYear</strong>: Percentage increase in order from last year\n",
    "- <strong>CouponUsed</strong>: Total number of coupon has been used in last month\n",
    "- <strong>OrderCount</strong>: Total number of orders has been places in last month\n",
    "- <strong>DaySinceLastOrder</strong>: Day since last order by customer\n",
    "- <strong>CashbackAmount</strong>: Average cashback in last month <p>\n",
    "\n",
    "Each observation represent customer data. \n",
    "\n",
    "<em>Note: Because this data was created in January 2021, which I don't know the exact date, I will assume we are working on this project 1 day after this dataset exists</em>"
   ]
  },
  {
   "cell_type": "markdown",
   "metadata": {},
   "source": [
    "## Check Missing Value:\n",
    "If we look the amount data of each feature is different and not equal 5630. That means we have a missing value problem. To solve that problem, we can drop the observation that have a missing value. However as I said before, our data is not too big so we have to be carefull in drop the data so the first thing I will do is check the number of observations that have a missing value. If it's too big then we need to use another way."
   ]
  },
  {
   "cell_type": "code",
   "execution_count": 27,
   "metadata": {},
   "outputs": [
    {
     "data": {
      "text/plain": [
       "CustomerID                       0\n",
       "Churn                            0\n",
       "Tenure                         264\n",
       "PreferredLoginDevice             0\n",
       "CityTier                         0\n",
       "WarehouseToHome                251\n",
       "PreferredPaymentMode             0\n",
       "Gender                           0\n",
       "HourSpendOnApp                 255\n",
       "NumberOfDeviceRegistered         0\n",
       "PreferedOrderCat                 0\n",
       "SatisfactionScore                0\n",
       "MaritalStatus                    0\n",
       "NumberOfAddress                  0\n",
       "Complain                         0\n",
       "OrderAmountHikeFromlastYear    265\n",
       "CouponUsed                     256\n",
       "OrderCount                     258\n",
       "DaySinceLastOrder              307\n",
       "CashbackAmount                   0\n",
       "dtype: int64"
      ]
     },
     "execution_count": 27,
     "metadata": {},
     "output_type": "execute_result"
    }
   ],
   "source": [
    "dfUnc.isnull().sum()"
   ]
  },
  {
   "cell_type": "markdown",
   "metadata": {},
   "source": [
    "Seems a little difficult to see, let's visualize to make it easier for us"
   ]
  },
  {
   "cell_type": "code",
   "execution_count": 28,
   "metadata": {},
   "outputs": [
    {
     "data": {
      "image/png": "[encoded data removed]",
      "text/plain": [
       "<Figure size 1296x432 with 1 Axes>"
      ]
     },
     "metadata": {
      "needs_background": "light"
     },
     "output_type": "display_data"
    }
   ],
   "source": [
    "# Missing data\n",
    "missingData = pd.DataFrame(dfUnc.isnull().sum()[dfUnc.isnull().sum() != 0]).reset_index().rename(columns={'index':'feature', 0:'value'})\n",
    "\n",
    "# Visualization\n",
    "plt.figure(figsize=(18,6))\n",
    "sns.barplot(data=missingData, x = 'feature', y = 'value')\n",
    "plt.title(\"The Amount of Missing Data\")\n",
    "plt.show()"
   ]
  },
  {
   "cell_type": "markdown",
   "metadata": {},
   "source": [
    "Let's check how percentange data we will drop if we chose drop missing value way"
   ]
  },
  {
   "cell_type": "code",
   "execution_count": 29,
   "metadata": {},
   "outputs": [
    {
     "data": {
      "text/html": [
       "<div>\n",
       "<style scoped>\n",
       "    .dataframe tbody tr th:only-of-type {\n",
       "        vertical-align: middle;\n",
       "    }\n",
       "\n",
       "    .dataframe tbody tr th {\n",
       "        vertical-align: top;\n",
       "    }\n",
       "\n",
       "    .dataframe thead th {\n",
       "        text-align: right;\n",
       "    }\n",
       "</style>\n",
       "<table border=\"1\" class=\"dataframe\">\n",
       "  <thead>\n",
       "    <tr style=\"text-align: right;\">\n",
       "      <th></th>\n",
       "      <th>feature</th>\n",
       "      <th>value</th>\n",
       "    </tr>\n",
       "  </thead>\n",
       "  <tbody>\n",
       "    <tr>\n",
       "      <th>0</th>\n",
       "      <td>Tenure</td>\n",
       "      <td>4.7</td>\n",
       "    </tr>\n",
       "    <tr>\n",
       "      <th>1</th>\n",
       "      <td>WarehouseToHome</td>\n",
       "      <td>4.5</td>\n",
       "    </tr>\n",
       "    <tr>\n",
       "      <th>2</th>\n",
       "      <td>HourSpendOnApp</td>\n",
       "      <td>4.5</td>\n",
       "    </tr>\n",
       "    <tr>\n",
       "      <th>3</th>\n",
       "      <td>OrderAmountHikeFromlastYear</td>\n",
       "      <td>4.7</td>\n",
       "    </tr>\n",
       "    <tr>\n",
       "      <th>4</th>\n",
       "      <td>CouponUsed</td>\n",
       "      <td>4.5</td>\n",
       "    </tr>\n",
       "    <tr>\n",
       "      <th>5</th>\n",
       "      <td>OrderCount</td>\n",
       "      <td>4.6</td>\n",
       "    </tr>\n",
       "    <tr>\n",
       "      <th>6</th>\n",
       "      <td>DaySinceLastOrder</td>\n",
       "      <td>5.5</td>\n",
       "    </tr>\n",
       "  </tbody>\n",
       "</table>\n",
       "</div>"
      ],
      "text/plain": [
       "                       feature  value\n",
       "0                       Tenure    4.7\n",
       "1              WarehouseToHome    4.5\n",
       "2               HourSpendOnApp    4.5\n",
       "3  OrderAmountHikeFromlastYear    4.7\n",
       "4                   CouponUsed    4.5\n",
       "5                   OrderCount    4.6\n",
       "6            DaySinceLastOrder    5.5"
      ]
     },
     "execution_count": 29,
     "metadata": {},
     "output_type": "execute_result"
    }
   ],
   "source": [
    "missingData['value'] = round(missingData['value']/len(dfUnc)*100, 1)\n",
    "\n",
    "missingData"
   ]
  },
  {
   "cell_type": "code",
   "execution_count": 30,
   "metadata": {},
   "outputs": [
    {
     "name": "stdout",
     "output_type": "stream",
     "text": [
      "The percentage of data will be droped 32.97%\n"
     ]
    }
   ],
   "source": [
    "print(f\"The percentage of data will be droped {round(len(dfUnc[dfUnc.isnull().any(axis=1)])/len(dfUnc)*100, 2)}%\")"
   ]
  },
  {
   "cell_type": "markdown",
   "metadata": {},
   "source": [
    "If we decided to use drop missing value, we will lose our observation as much as 32.97% so I think we can't use this way. To overcome this problem, we have another way beside drop missing value. We can use Central Tendency (mean, median, mode) from our dataset to input that missing value or we can use machine learning to predict that missing value. However to choose which way that appropriate with our data, we need to do EDA first so I will continue \"Handle Missing Value Step\" after I do EDA. "
   ]
  },
  {
   "cell_type": "markdown",
   "metadata": {},
   "source": [
    "## Check Duplicated Value:\n",
    "Check duplicated value from our dataset as important as check missing value. Duplicated value can lead us to misleading statistics that can make us take wrong decisions so it is important for us to drop duplicated value."
   ]
  },
  {
   "cell_type": "code",
   "execution_count": 31,
   "metadata": {},
   "outputs": [
    {
     "data": {
      "text/plain": [
       "0"
      ]
     },
     "execution_count": 31,
     "metadata": {},
     "output_type": "execute_result"
    }
   ],
   "source": [
    "dfUnc.duplicated().sum()"
   ]
  },
  {
   "cell_type": "markdown",
   "metadata": {},
   "source": [
    "Luckily our dataset has no duplicate values so we don't need to drop our observations"
   ]
  },
  {
   "cell_type": "markdown",
   "metadata": {},
   "source": [
    "## Casting Data Type:\n",
    "This process is useful to ensure the data type of each feature is appropriate. If something doesn't match, we have to change the data type first. On our dataset, I think there is something wrong about the data type in <strong>CityTier</strong> and <strong>Complain</strong> feature because actually they are categorical data, but they data type are Int. Therefore, I will change data type of both features becomes object. "
   ]
  },
  {
   "cell_type": "code",
   "execution_count": 32,
   "metadata": {},
   "outputs": [],
   "source": [
    "dfUnc['CityTier'] = dfUnc['CityTier'].astype('object')\n",
    "dfUnc['Complain'] = dfUnc['Complain'].astype('object')"
   ]
  },
  {
   "cell_type": "code",
   "execution_count": 33,
   "metadata": {},
   "outputs": [
    {
     "data": {
      "text/plain": [
       "CustomerID                       int64\n",
       "Churn                            int64\n",
       "Tenure                         float64\n",
       "PreferredLoginDevice            object\n",
       "CityTier                        object\n",
       "WarehouseToHome                float64\n",
       "PreferredPaymentMode            object\n",
       "Gender                          object\n",
       "HourSpendOnApp                 float64\n",
       "NumberOfDeviceRegistered         int64\n",
       "PreferedOrderCat                object\n",
       "SatisfactionScore                int64\n",
       "MaritalStatus                   object\n",
       "NumberOfAddress                  int64\n",
       "Complain                        object\n",
       "OrderAmountHikeFromlastYear    float64\n",
       "CouponUsed                     float64\n",
       "OrderCount                     float64\n",
       "DaySinceLastOrder              float64\n",
       "CashbackAmount                 float64\n",
       "dtype: object"
      ]
     },
     "execution_count": 33,
     "metadata": {},
     "output_type": "execute_result"
    }
   ],
   "source": [
    "dfUnc.dtypes"
   ]
  },
  {
   "cell_type": "markdown",
   "metadata": {},
   "source": [
    "## Incosistent Variables\n",
    "After we make sure the data type, the next process is to ensure the value of our categorical data on dataset. We need to check the consistency of categorical data type values, such as <strong>PreferredLoginDevice</strong>, <strong>CityTier</strong>, <strong>PreferredPaymentMode</strong>, <strong>Gender</strong>, <strong>PreferedOrderCat</strong>, <strong>MaritalStatus</strong>, <strong>Complain</strong> feature."
   ]
  },
  {
   "cell_type": "code",
   "execution_count": 34,
   "metadata": {},
   "outputs": [
    {
     "name": "stdout",
     "output_type": "stream",
     "text": [
      "Unique value of PreferredLoginDevice feature: \n",
      " ['Mobile Phone' 'Phone' 'Computer'] \n",
      "\n",
      "Unique value of CityTier feature: \n",
      " [3 1 2] \n",
      "\n",
      "Unique value of PreferredPaymentMode feature: \n",
      " ['Debit Card' 'UPI' 'CC' 'Cash on Delivery' 'E wallet' 'COD' 'Credit Card'] \n",
      "\n",
      "Unique value of Gender feature: \n",
      " ['Female' 'Male'] \n",
      "\n",
      "Unique value of PreferedOrderCat feature: \n",
      " ['Laptop & Accessory' 'Mobile' 'Mobile Phone' 'Others' 'Fashion' 'Grocery'] \n",
      "\n",
      "Unique value of MaritalStatus feature: \n",
      " ['Single' 'Divorced' 'Married'] \n",
      "\n",
      "Unique value of Complain feature: \n",
      " [1 0] \n",
      "\n"
     ]
    }
   ],
   "source": [
    "catFeat = ['PreferredLoginDevice', 'CityTier', 'PreferredPaymentMode', 'Gender', 'PreferedOrderCat', 'MaritalStatus', 'Complain']\n",
    "\n",
    "for i in catFeat:\n",
    "    print(f\"Unique value of {i} feature: \\n {dfUnc[i].unique()} \\n\")"
   ]
  },
  {
   "cell_type": "markdown",
   "metadata": {},
   "source": [
    "If we look <strong>PreferredLoginDevice</strong> feature, there is inconsistency value between <em>Mobile Phone</em> and <em>Phone</em> so I think we need to change <em>Phone</em> to <em>Mobile Phone</em> becauase I don't think phone can access our ecommerce apps. Same as <strong>PreferredLoginDevice</strong>, <strong>PreferedOrderCat</strong> feature have inconsistency value between <em>Mobile</em> and <em>Mobile Phone</em> so I will change <em>Mobile</em> value to <em>Mobile Phone</em>. In <strong>PreferredPaymentMode</strong> feature, this feature has more inconsistent values than the previous 2 features. There are <em>CC</em> and <em>Credit Card</em>, <em>Cash on Delivery</em> and <em>COD</em>, they are just abbreviations. Because of that, I think it will if we change the abbrevations into their real meaning, like <em>CC</em> into <em>Credit Card</em> and <em>COD</em> into <em>Cash on Delivery</em>. For the rest feature, no more inconsistent values."
   ]
  },
  {
   "cell_type": "code",
   "execution_count": 35,
   "metadata": {},
   "outputs": [],
   "source": [
    "# PreferredLoginDevice\n",
    "dfUnc['PreferredLoginDevice'] = np.where(dfUnc['PreferredLoginDevice'] == 'Phone', 'Mobile Phone', dfUnc['PreferredLoginDevice'])\n",
    "\n",
    "# PreferedOrderCat\n",
    "dfUnc['PreferedOrderCat'] = np.where(dfUnc['PreferedOrderCat'] == 'Mobile', 'Mobile Phone', dfUnc['PreferedOrderCat'])\n",
    "\n",
    "# PreferredPaymentMode\n",
    "dfUnc['PreferredPaymentMode'] = np.where(dfUnc['PreferredPaymentMode'] == 'CC', 'Credit Card', dfUnc['PreferredPaymentMode'])\n",
    "dfUnc['PreferredPaymentMode'] = np.where(dfUnc['PreferredPaymentMode'] == 'COD', 'Cash on Delivery', dfUnc['PreferredPaymentMode'])"
   ]
  },
  {
   "cell_type": "code",
   "execution_count": 36,
   "metadata": {},
   "outputs": [
    {
     "name": "stdout",
     "output_type": "stream",
     "text": [
      "Unique value of PreferredLoginDevice feature: \n",
      " ['Mobile Phone' 'Computer'] \n",
      "\n",
      "Unique value of CityTier feature: \n",
      " [3 1 2] \n",
      "\n",
      "Unique value of PreferredPaymentMode feature: \n",
      " ['Debit Card' 'UPI' 'Credit Card' 'Cash on Delivery' 'E wallet'] \n",
      "\n",
      "Unique value of Gender feature: \n",
      " ['Female' 'Male'] \n",
      "\n",
      "Unique value of PreferedOrderCat feature: \n",
      " ['Laptop & Accessory' 'Mobile Phone' 'Others' 'Fashion' 'Grocery'] \n",
      "\n",
      "Unique value of MaritalStatus feature: \n",
      " ['Single' 'Divorced' 'Married'] \n",
      "\n",
      "Unique value of Complain feature: \n",
      " [1 0] \n",
      "\n"
     ]
    }
   ],
   "source": [
    "catFeat = ['PreferredLoginDevice', 'CityTier', 'PreferredPaymentMode', 'Gender', 'PreferedOrderCat', 'MaritalStatus', 'Complain']\n",
    "\n",
    "for i in catFeat:\n",
    "    print(f\"Unique value of {i} feature: \\n {dfUnc[i].unique()} \\n\")"
   ]
  },
  {
   "cell_type": "markdown",
   "metadata": {},
   "source": [
    "## Drop Unused Features:\n",
    "On our dataset, there is <strong>CustomerID</strong> feature and I think that feature cannot be used for our analysis. Therefore, I will drop <strong>CustomerID</strong>."
   ]
  },
  {
   "cell_type": "code",
   "execution_count": 37,
   "metadata": {},
   "outputs": [
    {
     "data": {
      "text/plain": [
       "Index(['Churn', 'Tenure', 'PreferredLoginDevice', 'CityTier',\n",
       "       'WarehouseToHome', 'PreferredPaymentMode', 'Gender', 'HourSpendOnApp',\n",
       "       'NumberOfDeviceRegistered', 'PreferedOrderCat', 'SatisfactionScore',\n",
       "       'MaritalStatus', 'NumberOfAddress', 'Complain',\n",
       "       'OrderAmountHikeFromlastYear', 'CouponUsed', 'OrderCount',\n",
       "       'DaySinceLastOrder', 'CashbackAmount'],\n",
       "      dtype='object')"
      ]
     },
     "execution_count": 37,
     "metadata": {},
     "output_type": "execute_result"
    }
   ],
   "source": [
    "dfUnc.drop(columns='CustomerID', inplace=True)\n",
    "dfUnc.columns"
   ]
  },
  {
   "cell_type": "markdown",
   "metadata": {},
   "source": [
    "## Exploratory Data Analysis(EDA):\n",
    "EDA is critical process of performing initial investigations on data so as to discovers patterns, spot anomalies, test hypothesis and check assumptions with the help of summary statistics and graphical representations. Basically, EDA will help us to better understand our dataset and sometimes we need graphics."
   ]
  },
  {
   "cell_type": "markdown",
   "metadata": {},
   "source": [
    "## Measure Central Tendency & Dispersion:\n",
    "The first thing I will do in the EDA process is measure Central Tendecy & Dispersion of our dataset. This process is useful to see our summary statistics from our dataset quickly before we going deeper.<p>\n",
    "Measure Central Tendency is useful to describe whole data with single values. Central tendency consist of Mean, Median, and Mode. Mean can be intrepeted as average, Median is middle number, while mode is the value that occurs most often. Depends on our feature, each feature can be described with a different central tendency. If our feature is numerical feature, that feature can be described with mean or median. However if our feature is categorical feature, that feature is described by mode only. <p>\n",
    "Measure Dispersion is useful to measure spread of data about the mean. From dispersion, we can find out the outliers of each feature. Dispersion consist of Range, Standar Deviation, and etc. <p>\n",
    "Let's measure our central tendecy & dispersion from our dataset."
   ]
  },
  {
   "cell_type": "code",
   "execution_count": 41,
   "metadata": {},
   "outputs": [
    {
     "data": {
      "text/html": [
       "<div>\n",
       "<style scoped>\n",
       "    .dataframe tbody tr th:only-of-type {\n",
       "        vertical-align: middle;\n",
       "    }\n",
       "\n",
       "    .dataframe tbody tr th {\n",
       "        vertical-align: top;\n",
       "    }\n",
       "\n",
       "    .dataframe thead th {\n",
       "        text-align: right;\n",
       "    }\n",
       "</style>\n",
       "<table border=\"1\" class=\"dataframe\">\n",
       "  <thead>\n",
       "    <tr style=\"text-align: right;\">\n",
       "      <th></th>\n",
       "      <th>Churn</th>\n",
       "      <th>Tenure</th>\n",
       "      <th>WarehouseToHome</th>\n",
       "      <th>HourSpendOnApp</th>\n",
       "      <th>NumberOfDeviceRegistered</th>\n",
       "      <th>SatisfactionScore</th>\n",
       "      <th>NumberOfAddress</th>\n",
       "      <th>OrderAmountHikeFromlastYear</th>\n",
       "      <th>CouponUsed</th>\n",
       "      <th>OrderCount</th>\n",
       "      <th>DaySinceLastOrder</th>\n",
       "      <th>CashbackAmount</th>\n",
       "    </tr>\n",
       "  </thead>\n",
       "  <tbody>\n",
       "    <tr>\n",
       "      <th>count</th>\n",
       "      <td>5630.000000</td>\n",
       "      <td>5366.000000</td>\n",
       "      <td>5379.000000</td>\n",
       "      <td>5375.000000</td>\n",
       "      <td>5630.000000</td>\n",
       "      <td>5630.000000</td>\n",
       "      <td>5630.000000</td>\n",
       "      <td>5365.000000</td>\n",
       "      <td>5374.000000</td>\n",
       "      <td>5372.000000</td>\n",
       "      <td>5323.000000</td>\n",
       "      <td>5630.000000</td>\n",
       "    </tr>\n",
       "    <tr>\n",
       "      <th>mean</th>\n",
       "      <td>0.168384</td>\n",
       "      <td>10.189899</td>\n",
       "      <td>15.639896</td>\n",
       "      <td>2.931535</td>\n",
       "      <td>3.688988</td>\n",
       "      <td>3.066785</td>\n",
       "      <td>4.214032</td>\n",
       "      <td>15.707922</td>\n",
       "      <td>1.751023</td>\n",
       "      <td>3.008004</td>\n",
       "      <td>4.543491</td>\n",
       "      <td>177.223030</td>\n",
       "    </tr>\n",
       "    <tr>\n",
       "      <th>std</th>\n",
       "      <td>0.374240</td>\n",
       "      <td>8.557241</td>\n",
       "      <td>8.531475</td>\n",
       "      <td>0.721926</td>\n",
       "      <td>1.023999</td>\n",
       "      <td>1.380194</td>\n",
       "      <td>2.583586</td>\n",
       "      <td>3.675485</td>\n",
       "      <td>1.894621</td>\n",
       "      <td>2.939680</td>\n",
       "      <td>3.654433</td>\n",
       "      <td>49.207036</td>\n",
       "    </tr>\n",
       "    <tr>\n",
       "      <th>min</th>\n",
       "      <td>0.000000</td>\n",
       "      <td>0.000000</td>\n",
       "      <td>5.000000</td>\n",
       "      <td>0.000000</td>\n",
       "      <td>1.000000</td>\n",
       "      <td>1.000000</td>\n",
       "      <td>1.000000</td>\n",
       "      <td>11.000000</td>\n",
       "      <td>0.000000</td>\n",
       "      <td>1.000000</td>\n",
       "      <td>0.000000</td>\n",
       "      <td>0.000000</td>\n",
       "    </tr>\n",
       "    <tr>\n",
       "      <th>25%</th>\n",
       "      <td>0.000000</td>\n",
       "      <td>2.000000</td>\n",
       "      <td>9.000000</td>\n",
       "      <td>2.000000</td>\n",
       "      <td>3.000000</td>\n",
       "      <td>2.000000</td>\n",
       "      <td>2.000000</td>\n",
       "      <td>13.000000</td>\n",
       "      <td>1.000000</td>\n",
       "      <td>1.000000</td>\n",
       "      <td>2.000000</td>\n",
       "      <td>145.770000</td>\n",
       "    </tr>\n",
       "    <tr>\n",
       "      <th>50%</th>\n",
       "      <td>0.000000</td>\n",
       "      <td>9.000000</td>\n",
       "      <td>14.000000</td>\n",
       "      <td>3.000000</td>\n",
       "      <td>4.000000</td>\n",
       "      <td>3.000000</td>\n",
       "      <td>3.000000</td>\n",
       "      <td>15.000000</td>\n",
       "      <td>1.000000</td>\n",
       "      <td>2.000000</td>\n",
       "      <td>3.000000</td>\n",
       "      <td>163.280000</td>\n",
       "    </tr>\n",
       "    <tr>\n",
       "      <th>75%</th>\n",
       "      <td>0.000000</td>\n",
       "      <td>16.000000</td>\n",
       "      <td>20.000000</td>\n",
       "      <td>3.000000</td>\n",
       "      <td>4.000000</td>\n",
       "      <td>4.000000</td>\n",
       "      <td>6.000000</td>\n",
       "      <td>18.000000</td>\n",
       "      <td>2.000000</td>\n",
       "      <td>3.000000</td>\n",
       "      <td>7.000000</td>\n",
       "      <td>196.392500</td>\n",
       "    </tr>\n",
       "    <tr>\n",
       "      <th>max</th>\n",
       "      <td>1.000000</td>\n",
       "      <td>61.000000</td>\n",
       "      <td>127.000000</td>\n",
       "      <td>5.000000</td>\n",
       "      <td>6.000000</td>\n",
       "      <td>5.000000</td>\n",
       "      <td>22.000000</td>\n",
       "      <td>26.000000</td>\n",
       "      <td>16.000000</td>\n",
       "      <td>16.000000</td>\n",
       "      <td>46.000000</td>\n",
       "      <td>324.990000</td>\n",
       "    </tr>\n",
       "  </tbody>\n",
       "</table>\n",
       "</div>"
      ],
      "text/plain": [
       "             Churn       Tenure  WarehouseToHome  HourSpendOnApp  \\\n",
       "count  5630.000000  5366.000000      5379.000000     5375.000000   \n",
       "mean      0.168384    10.189899        15.639896        2.931535   \n",
       "std       0.374240     8.557241         8.531475        0.721926   \n",
       "min       0.000000     0.000000         5.000000        0.000000   \n",
       "25%       0.000000     2.000000         9.000000        2.000000   \n",
       "50%       0.000000     9.000000        14.000000        3.000000   \n",
       "75%       0.000000    16.000000        20.000000        3.000000   \n",
       "max       1.000000    61.000000       127.000000        5.000000   \n",
       "\n",
       "       NumberOfDeviceRegistered  SatisfactionScore  NumberOfAddress  \\\n",
       "count               5630.000000        5630.000000      5630.000000   \n",
       "mean                   3.688988           3.066785         4.214032   \n",
       "std                    1.023999           1.380194         2.583586   \n",
       "min                    1.000000           1.000000         1.000000   \n",
       "25%                    3.000000           2.000000         2.000000   \n",
       "50%                    4.000000           3.000000         3.000000   \n",
       "75%                    4.000000           4.000000         6.000000   \n",
       "max                    6.000000           5.000000        22.000000   \n",
       "\n",
       "       OrderAmountHikeFromlastYear   CouponUsed   OrderCount  \\\n",
       "count                  5365.000000  5374.000000  5372.000000   \n",
       "mean                     15.707922     1.751023     3.008004   \n",
       "std                       3.675485     1.894621     2.939680   \n",
       "min                      11.000000     0.000000     1.000000   \n",
       "25%                      13.000000     1.000000     1.000000   \n",
       "50%                      15.000000     1.000000     2.000000   \n",
       "75%                      18.000000     2.000000     3.000000   \n",
       "max                      26.000000    16.000000    16.000000   \n",
       "\n",
       "       DaySinceLastOrder  CashbackAmount  \n",
       "count        5323.000000     5630.000000  \n",
       "mean            4.543491      177.223030  \n",
       "std             3.654433       49.207036  \n",
       "min             0.000000        0.000000  \n",
       "25%             2.000000      145.770000  \n",
       "50%             3.000000      163.280000  \n",
       "75%             7.000000      196.392500  \n",
       "max            46.000000      324.990000  "
      ]
     },
     "execution_count": 41,
     "metadata": {},
     "output_type": "execute_result"
    }
   ],
   "source": [
    "## Numerical feature\n",
    "dfUnc.describe()"
   ]
  },
  {
   "cell_type": "code",
   "execution_count": 42,
   "metadata": {},
   "outputs": [
    {
     "data": {
      "text/html": [
       "<div>\n",
       "<style scoped>\n",
       "    .dataframe tbody tr th:only-of-type {\n",
       "        vertical-align: middle;\n",
       "    }\n",
       "\n",
       "    .dataframe tbody tr th {\n",
       "        vertical-align: top;\n",
       "    }\n",
       "\n",
       "    .dataframe thead th {\n",
       "        text-align: right;\n",
       "    }\n",
       "</style>\n",
       "<table border=\"1\" class=\"dataframe\">\n",
       "  <thead>\n",
       "    <tr style=\"text-align: right;\">\n",
       "      <th></th>\n",
       "      <th>PreferredLoginDevice</th>\n",
       "      <th>CityTier</th>\n",
       "      <th>PreferredPaymentMode</th>\n",
       "      <th>Gender</th>\n",
       "      <th>PreferedOrderCat</th>\n",
       "      <th>MaritalStatus</th>\n",
       "      <th>Complain</th>\n",
       "    </tr>\n",
       "  </thead>\n",
       "  <tbody>\n",
       "    <tr>\n",
       "      <th>count</th>\n",
       "      <td>5630</td>\n",
       "      <td>5630</td>\n",
       "      <td>5630</td>\n",
       "      <td>5630</td>\n",
       "      <td>5630</td>\n",
       "      <td>5630</td>\n",
       "      <td>5630</td>\n",
       "    </tr>\n",
       "    <tr>\n",
       "      <th>unique</th>\n",
       "      <td>2</td>\n",
       "      <td>3</td>\n",
       "      <td>5</td>\n",
       "      <td>2</td>\n",
       "      <td>5</td>\n",
       "      <td>3</td>\n",
       "      <td>2</td>\n",
       "    </tr>\n",
       "    <tr>\n",
       "      <th>top</th>\n",
       "      <td>Mobile Phone</td>\n",
       "      <td>1</td>\n",
       "      <td>Debit Card</td>\n",
       "      <td>Male</td>\n",
       "      <td>Mobile Phone</td>\n",
       "      <td>Married</td>\n",
       "      <td>0</td>\n",
       "    </tr>\n",
       "    <tr>\n",
       "      <th>freq</th>\n",
       "      <td>3996</td>\n",
       "      <td>3666</td>\n",
       "      <td>2314</td>\n",
       "      <td>3384</td>\n",
       "      <td>2080</td>\n",
       "      <td>2986</td>\n",
       "      <td>4026</td>\n",
       "    </tr>\n",
       "  </tbody>\n",
       "</table>\n",
       "</div>"
      ],
      "text/plain": [
       "       PreferredLoginDevice  CityTier PreferredPaymentMode Gender  \\\n",
       "count                  5630      5630                 5630   5630   \n",
       "unique                    2         3                    5      2   \n",
       "top            Mobile Phone         1           Debit Card   Male   \n",
       "freq                   3996      3666                 2314   3384   \n",
       "\n",
       "       PreferedOrderCat MaritalStatus  Complain  \n",
       "count              5630          5630      5630  \n",
       "unique                5             3         2  \n",
       "top        Mobile Phone       Married         0  \n",
       "freq               2080          2986      4026  "
      ]
     },
     "execution_count": 42,
     "metadata": {},
     "output_type": "execute_result"
    }
   ],
   "source": [
    "## Categorical Feature\n",
    "dfUnc.describe(include=['O'])"
   ]
  },
  {
   "cell_type": "markdown",
   "metadata": {},
   "source": [
    "From here, we can see if the numerical features we have do not seem to be normally distributed or skewed. To make sure of that, let's draw histogram plot of our numerical features."
   ]
  },
  {
   "cell_type": "markdown",
   "metadata": {},
   "source": [
    "## Histogram Plot:\n",
    "Histogram is plot that used to plot the frequency of score occurances in continous data. With histogram plot, we can our numerical features distribution. Knowing the distribution of our data is important thing. By knowing the distribution of data, we can take appropriate actions for data cleaning and data preprocessing."
   ]
  },
  {
   "cell_type": "code",
   "execution_count": 67,
   "metadata": {},
   "outputs": [
    {
     "data": {
      "image/png": "[encoded data removed]",
      "text/plain": [
       "<Figure size 1080x864 with 11 Axes>"
      ]
     },
     "metadata": {
      "needs_background": "light"
     },
     "output_type": "display_data"
    }
   ],
   "source": [
    "numFeat = dfUnc.select_dtypes(include=np.number).columns.tolist()\n",
    "\n",
    "fig = plt.figure(figsize = (15,12))\n",
    "for index, var in enumerate(numFeat[1:]):\n",
    "  ax = fig.add_subplot(3,5,index+1)\n",
    "  sns.distplot(dfUnc[var], ax=ax, bins=7, color='yellowgreen')\n",
    "  plt.grid(True)\n",
    "\n",
    "fig.suptitle(\"Histogram Plot of Numerical Features\", fontsize = 20)\n",
    "fig.tight_layout()\n",
    "fig.show()"
   ]
  },
  {
   "cell_type": "markdown",
   "metadata": {},
   "source": [
    "As we can see, there are more features that left skewed in our numerical features. Left skewed is situation when the mean of our feature smaller than the median. From here, we need to use median instead of mean to desrcibed numerical features. Maybe, there is some question \"What is the function of knowing that?\". Knowing this, if we want to impute missing value, we can't use mean value of feature, instead we can use the median value of feature.  "
   ]
  },
  {
   "cell_type": "code",
   "execution_count": null,
   "metadata": {},
   "outputs": [],
   "source": []
  }
 ],
 "metadata": {
  "interpreter": {
   "hash": "e343e58f9dab254f6100d2d6f7c3583c570c7a78b567a55eb3c26c08d507c736"
  },
  "kernelspec": {
   "display_name": "Python 3.9.2 64-bit",
   "language": "python",
   "name": "python3"
  },
  "language_info": {
   "codemirror_mode": {
    "name": "ipython",
    "version": 3
   },
   "file_extension": ".py",
   "mimetype": "text/x-python",
   "name": "python",
   "nbconvert_exporter": "python",
   "pygments_lexer": "ipython3",
   "version": "3.9.2"
  },
  "orig_nbformat": 4
 },
 "nbformat": 4,
 "nbformat_minor": 2
}
