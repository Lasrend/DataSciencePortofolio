{
 "cells": [
  {
   "cell_type": "markdown",
   "source": [
    "# Part 03: Modeling:\r\n",
    "In this part, I will do modeling with machine learning algorithm. The things I will do:\r\n",
    "- Feature engineering\r\n",
    "- Compare Linear Regression model with Decision Tree Regressor\r\n",
    "- Hyperparameter tuning\r\n",
    "- Evaluation\r\n",
    "- Model Interpretation\r\n",
    "- Save the model"
   ],
   "metadata": {}
  },
  {
   "cell_type": "markdown",
   "source": [
    "## Library:"
   ],
   "metadata": {}
  },
  {
   "cell_type": "code",
   "execution_count": 1,
   "source": [
    "library(ggplot2)"
   ],
   "outputs": [],
   "metadata": {}
  },
  {
   "cell_type": "code",
   "execution_count": 2,
   "source": [
    "library(caTools)"
   ],
   "outputs": [],
   "metadata": {}
  },
  {
   "cell_type": "code",
   "execution_count": 3,
   "source": [
    "library(dplyr)"
   ],
   "outputs": [
    {
     "output_type": "stream",
     "name": "stderr",
     "text": [
      "\n",
      "Attaching package: 'dplyr'\n",
      "\n",
      "\n",
      "The following objects are masked from 'package:stats':\n",
      "\n",
      "    filter, lag\n",
      "\n",
      "\n",
      "The following objects are masked from 'package:base':\n",
      "\n",
      "    intersect, setdiff, setequal, union\n",
      "\n",
      "\n"
     ]
    }
   ],
   "metadata": {}
  },
  {
   "cell_type": "code",
   "execution_count": 4,
   "source": [
    "library(fastDummies)"
   ],
   "outputs": [],
   "metadata": {}
  },
  {
   "cell_type": "code",
   "execution_count": 5,
   "source": [
    "library(rpart)"
   ],
   "outputs": [],
   "metadata": {}
  },
  {
   "cell_type": "code",
   "execution_count": 6,
   "source": [
    "library(randomForest)"
   ],
   "outputs": [
    {
     "output_type": "stream",
     "name": "stderr",
     "text": [
      "randomForest 4.6-14\n",
      "\n",
      "Type rfNews() to see new features/changes/bug fixes.\n",
      "\n",
      "\n",
      "Attaching package: 'randomForest'\n",
      "\n",
      "\n",
      "The following object is masked from 'package:dplyr':\n",
      "\n",
      "    combine\n",
      "\n",
      "\n",
      "The following object is masked from 'package:ggplot2':\n",
      "\n",
      "    margin\n",
      "\n",
      "\n"
     ]
    }
   ],
   "metadata": {}
  },
  {
   "cell_type": "code",
   "execution_count": 7,
   "source": [
    "library(xgboost)"
   ],
   "outputs": [
    {
     "output_type": "stream",
     "name": "stderr",
     "text": [
      "\n",
      "Attaching package: 'xgboost'\n",
      "\n",
      "\n",
      "The following object is masked from 'package:dplyr':\n",
      "\n",
      "    slice\n",
      "\n",
      "\n"
     ]
    }
   ],
   "metadata": {}
  },
  {
   "cell_type": "code",
   "execution_count": 8,
   "source": [
    "library(mlr)"
   ],
   "outputs": [
    {
     "output_type": "stream",
     "name": "stderr",
     "text": [
      "Loading required package: ParamHelpers\n",
      "\n",
      "Warning message: 'mlr' is in 'maintenance-only' mode since July 2019.\n",
      "Future development will only happen in 'mlr3'\n",
      "(<https://mlr3.mlr-org.com>). Due to the focus on 'mlr3' there might be\n",
      "uncaught bugs meanwhile in {mlr} - please consider switching.\n",
      "\n"
     ]
    }
   ],
   "metadata": {}
  },
  {
   "cell_type": "markdown",
   "source": [
    "## Data:"
   ],
   "metadata": {}
  },
  {
   "cell_type": "code",
   "execution_count": 9,
   "source": [
    "df <- read.csv(\"insuranceDataCleaned.csv\")"
   ],
   "outputs": [],
   "metadata": {}
  },
  {
   "cell_type": "code",
   "execution_count": 10,
   "source": [
    "df <- subset(df, select = (-c(sex)))"
   ],
   "outputs": [],
   "metadata": {}
  },
  {
   "cell_type": "code",
   "execution_count": 11,
   "source": [
    "head(df)"
   ],
   "outputs": [
    {
     "output_type": "display_data",
     "data": {
      "text/html": [
       "<table class=\"dataframe\">\n",
       "<caption>A data.frame: 6 × 6</caption>\n",
       "<thead>\n",
       "\t<tr><th></th><th scope=col>age</th><th scope=col>bmi</th><th scope=col>children</th><th scope=col>smoker</th><th scope=col>region</th><th scope=col>charges</th></tr>\n",
       "\t<tr><th></th><th scope=col>&lt;int&gt;</th><th scope=col>&lt;dbl&gt;</th><th scope=col>&lt;int&gt;</th><th scope=col>&lt;chr&gt;</th><th scope=col>&lt;chr&gt;</th><th scope=col>&lt;dbl&gt;</th></tr>\n",
       "</thead>\n",
       "<tbody>\n",
       "\t<tr><th scope=row>1</th><td>19</td><td>27.900</td><td>0</td><td>yes</td><td>southwest</td><td>16884.924</td></tr>\n",
       "\t<tr><th scope=row>2</th><td>18</td><td>33.770</td><td>1</td><td>no </td><td>southeast</td><td> 1725.552</td></tr>\n",
       "\t<tr><th scope=row>3</th><td>28</td><td>33.000</td><td>3</td><td>no </td><td>southeast</td><td> 4449.462</td></tr>\n",
       "\t<tr><th scope=row>4</th><td>33</td><td>22.705</td><td>0</td><td>no </td><td>northwest</td><td>21984.471</td></tr>\n",
       "\t<tr><th scope=row>5</th><td>32</td><td>28.880</td><td>0</td><td>no </td><td>northwest</td><td> 3866.855</td></tr>\n",
       "\t<tr><th scope=row>6</th><td>31</td><td>25.740</td><td>0</td><td>no </td><td>southeast</td><td> 3756.622</td></tr>\n",
       "</tbody>\n",
       "</table>\n"
      ],
      "text/latex": [
       "A data.frame: 6 × 6\n",
       "\\begin{tabular}{r|llllll}\n",
       "  & age & bmi & children & smoker & region & charges\\\\\n",
       "  & <int> & <dbl> & <int> & <chr> & <chr> & <dbl>\\\\\n",
       "\\hline\n",
       "\t1 & 19 & 27.900 & 0 & yes & southwest & 16884.924\\\\\n",
       "\t2 & 18 & 33.770 & 1 & no  & southeast &  1725.552\\\\\n",
       "\t3 & 28 & 33.000 & 3 & no  & southeast &  4449.462\\\\\n",
       "\t4 & 33 & 22.705 & 0 & no  & northwest & 21984.471\\\\\n",
       "\t5 & 32 & 28.880 & 0 & no  & northwest &  3866.855\\\\\n",
       "\t6 & 31 & 25.740 & 0 & no  & southeast &  3756.622\\\\\n",
       "\\end{tabular}\n"
      ],
      "text/markdown": [
       "\n",
       "A data.frame: 6 × 6\n",
       "\n",
       "| <!--/--> | age &lt;int&gt; | bmi &lt;dbl&gt; | children &lt;int&gt; | smoker &lt;chr&gt; | region &lt;chr&gt; | charges &lt;dbl&gt; |\n",
       "|---|---|---|---|---|---|---|\n",
       "| 1 | 19 | 27.900 | 0 | yes | southwest | 16884.924 |\n",
       "| 2 | 18 | 33.770 | 1 | no  | southeast |  1725.552 |\n",
       "| 3 | 28 | 33.000 | 3 | no  | southeast |  4449.462 |\n",
       "| 4 | 33 | 22.705 | 0 | no  | northwest | 21984.471 |\n",
       "| 5 | 32 | 28.880 | 0 | no  | northwest |  3866.855 |\n",
       "| 6 | 31 | 25.740 | 0 | no  | southeast |  3756.622 |\n",
       "\n"
      ],
      "text/plain": [
       "  age bmi    children smoker region    charges  \n",
       "1 19  27.900 0        yes    southwest 16884.924\n",
       "2 18  33.770 1        no     southeast  1725.552\n",
       "3 28  33.000 3        no     southeast  4449.462\n",
       "4 33  22.705 0        no     northwest 21984.471\n",
       "5 32  28.880 0        no     northwest  3866.855\n",
       "6 31  25.740 0        no     southeast  3756.622"
      ]
     },
     "metadata": {}
    }
   ],
   "metadata": {}
  },
  {
   "cell_type": "markdown",
   "source": [
    "## Feature Engineering:\r\n",
    "According EDA in last part, I will do StandarScaler for Numerical variable (Age, Children, BMI, Charges) and One Hot Encoding for Qualitative variable (Smoker and Region). Sex variables were excluded to avoid bias"
   ],
   "metadata": {}
  },
  {
   "cell_type": "markdown",
   "source": [
    "### One Hot Encoding:"
   ],
   "metadata": {}
  },
  {
   "cell_type": "code",
   "execution_count": 12,
   "source": [
    "df <- dummy_cols(df, remove_first_dummy = T)"
   ],
   "outputs": [],
   "metadata": {}
  },
  {
   "cell_type": "code",
   "execution_count": 13,
   "source": [
    "df <- subset(df, select = -c(smoker, region))"
   ],
   "outputs": [],
   "metadata": {}
  },
  {
   "cell_type": "code",
   "execution_count": 14,
   "source": [
    "head(df)"
   ],
   "outputs": [
    {
     "output_type": "display_data",
     "data": {
      "text/html": [
       "<table class=\"dataframe\">\n",
       "<caption>A data.frame: 6 × 8</caption>\n",
       "<thead>\n",
       "\t<tr><th></th><th scope=col>age</th><th scope=col>bmi</th><th scope=col>children</th><th scope=col>charges</th><th scope=col>smoker_yes</th><th scope=col>region_northwest</th><th scope=col>region_southeast</th><th scope=col>region_southwest</th></tr>\n",
       "\t<tr><th></th><th scope=col>&lt;int&gt;</th><th scope=col>&lt;dbl&gt;</th><th scope=col>&lt;int&gt;</th><th scope=col>&lt;dbl&gt;</th><th scope=col>&lt;int&gt;</th><th scope=col>&lt;int&gt;</th><th scope=col>&lt;int&gt;</th><th scope=col>&lt;int&gt;</th></tr>\n",
       "</thead>\n",
       "<tbody>\n",
       "\t<tr><th scope=row>1</th><td>19</td><td>27.900</td><td>0</td><td>16884.924</td><td>1</td><td>0</td><td>0</td><td>1</td></tr>\n",
       "\t<tr><th scope=row>2</th><td>18</td><td>33.770</td><td>1</td><td> 1725.552</td><td>0</td><td>0</td><td>1</td><td>0</td></tr>\n",
       "\t<tr><th scope=row>3</th><td>28</td><td>33.000</td><td>3</td><td> 4449.462</td><td>0</td><td>0</td><td>1</td><td>0</td></tr>\n",
       "\t<tr><th scope=row>4</th><td>33</td><td>22.705</td><td>0</td><td>21984.471</td><td>0</td><td>1</td><td>0</td><td>0</td></tr>\n",
       "\t<tr><th scope=row>5</th><td>32</td><td>28.880</td><td>0</td><td> 3866.855</td><td>0</td><td>1</td><td>0</td><td>0</td></tr>\n",
       "\t<tr><th scope=row>6</th><td>31</td><td>25.740</td><td>0</td><td> 3756.622</td><td>0</td><td>0</td><td>1</td><td>0</td></tr>\n",
       "</tbody>\n",
       "</table>\n"
      ],
      "text/latex": [
       "A data.frame: 6 × 8\n",
       "\\begin{tabular}{r|llllllll}\n",
       "  & age & bmi & children & charges & smoker\\_yes & region\\_northwest & region\\_southeast & region\\_southwest\\\\\n",
       "  & <int> & <dbl> & <int> & <dbl> & <int> & <int> & <int> & <int>\\\\\n",
       "\\hline\n",
       "\t1 & 19 & 27.900 & 0 & 16884.924 & 1 & 0 & 0 & 1\\\\\n",
       "\t2 & 18 & 33.770 & 1 &  1725.552 & 0 & 0 & 1 & 0\\\\\n",
       "\t3 & 28 & 33.000 & 3 &  4449.462 & 0 & 0 & 1 & 0\\\\\n",
       "\t4 & 33 & 22.705 & 0 & 21984.471 & 0 & 1 & 0 & 0\\\\\n",
       "\t5 & 32 & 28.880 & 0 &  3866.855 & 0 & 1 & 0 & 0\\\\\n",
       "\t6 & 31 & 25.740 & 0 &  3756.622 & 0 & 0 & 1 & 0\\\\\n",
       "\\end{tabular}\n"
      ],
      "text/markdown": [
       "\n",
       "A data.frame: 6 × 8\n",
       "\n",
       "| <!--/--> | age &lt;int&gt; | bmi &lt;dbl&gt; | children &lt;int&gt; | charges &lt;dbl&gt; | smoker_yes &lt;int&gt; | region_northwest &lt;int&gt; | region_southeast &lt;int&gt; | region_southwest &lt;int&gt; |\n",
       "|---|---|---|---|---|---|---|---|---|\n",
       "| 1 | 19 | 27.900 | 0 | 16884.924 | 1 | 0 | 0 | 1 |\n",
       "| 2 | 18 | 33.770 | 1 |  1725.552 | 0 | 0 | 1 | 0 |\n",
       "| 3 | 28 | 33.000 | 3 |  4449.462 | 0 | 0 | 1 | 0 |\n",
       "| 4 | 33 | 22.705 | 0 | 21984.471 | 0 | 1 | 0 | 0 |\n",
       "| 5 | 32 | 28.880 | 0 |  3866.855 | 0 | 1 | 0 | 0 |\n",
       "| 6 | 31 | 25.740 | 0 |  3756.622 | 0 | 0 | 1 | 0 |\n",
       "\n"
      ],
      "text/plain": [
       "  age bmi    children charges   smoker_yes region_northwest region_southeast\n",
       "1 19  27.900 0        16884.924 1          0                0               \n",
       "2 18  33.770 1         1725.552 0          0                1               \n",
       "3 28  33.000 3         4449.462 0          0                1               \n",
       "4 33  22.705 0        21984.471 0          1                0               \n",
       "5 32  28.880 0         3866.855 0          1                0               \n",
       "6 31  25.740 0         3756.622 0          0                1               \n",
       "  region_southwest\n",
       "1 1               \n",
       "2 0               \n",
       "3 0               \n",
       "4 0               \n",
       "5 0               \n",
       "6 0               "
      ]
     },
     "metadata": {}
    }
   ],
   "metadata": {}
  },
  {
   "cell_type": "markdown",
   "source": [
    "### Split Data"
   ],
   "metadata": {}
  },
  {
   "cell_type": "code",
   "execution_count": 56,
   "source": [
    "set.seed(101)"
   ],
   "outputs": [],
   "metadata": {}
  },
  {
   "cell_type": "code",
   "execution_count": 57,
   "source": [
    "split <- sample.split(df$charges, SplitRatio = 0.8)"
   ],
   "outputs": [],
   "metadata": {}
  },
  {
   "cell_type": "code",
   "execution_count": 58,
   "source": [
    "train <- subset(df, split == T)"
   ],
   "outputs": [],
   "metadata": {}
  },
  {
   "cell_type": "code",
   "execution_count": 59,
   "source": [
    "test <- subset(df, split == F)"
   ],
   "outputs": [],
   "metadata": {}
  },
  {
   "cell_type": "markdown",
   "source": [
    "### Standard Scaler:"
   ],
   "metadata": {}
  },
  {
   "cell_type": "markdown",
   "source": [
    "Train Scale"
   ],
   "metadata": {}
  },
  {
   "cell_type": "code",
   "execution_count": 19,
   "source": [
    "trainScaled <- scale(select(train, c(age, bmi, children)))"
   ],
   "outputs": [],
   "metadata": {}
  },
  {
   "cell_type": "code",
   "execution_count": 20,
   "source": [
    "trainScaled <- cbind(trainScaled, subset(train, select = -c(age, bmi, children)))"
   ],
   "outputs": [],
   "metadata": {}
  },
  {
   "cell_type": "code",
   "execution_count": 21,
   "source": [
    "head(trainScaled)"
   ],
   "outputs": [
    {
     "output_type": "display_data",
     "data": {
      "text/html": [
       "<table class=\"dataframe\">\n",
       "<caption>A data.frame: 6 × 8</caption>\n",
       "<thead>\n",
       "\t<tr><th></th><th scope=col>age</th><th scope=col>bmi</th><th scope=col>children</th><th scope=col>charges</th><th scope=col>smoker_yes</th><th scope=col>region_northwest</th><th scope=col>region_southeast</th><th scope=col>region_southwest</th></tr>\n",
       "\t<tr><th></th><th scope=col>&lt;dbl&gt;</th><th scope=col>&lt;dbl&gt;</th><th scope=col>&lt;dbl&gt;</th><th scope=col>&lt;dbl&gt;</th><th scope=col>&lt;int&gt;</th><th scope=col>&lt;int&gt;</th><th scope=col>&lt;int&gt;</th><th scope=col>&lt;int&gt;</th></tr>\n",
       "</thead>\n",
       "<tbody>\n",
       "\t<tr><th scope=row>1</th><td>-1.4350233</td><td>-0.4691320</td><td>-0.90179237</td><td>16884.924</td><td>1</td><td>0</td><td>0</td><td>1</td></tr>\n",
       "\t<tr><th scope=row>2</th><td>-1.5058764</td><td> 0.5031614</td><td>-0.05393305</td><td> 1725.552</td><td>0</td><td>0</td><td>1</td><td>0</td></tr>\n",
       "\t<tr><th scope=row>3</th><td>-0.7973456</td><td> 0.3756203</td><td> 1.64178558</td><td> 4449.462</td><td>0</td><td>0</td><td>1</td><td>0</td></tr>\n",
       "\t<tr><th scope=row>4</th><td>-0.4430803</td><td>-1.3296200</td><td>-0.90179237</td><td>21984.471</td><td>0</td><td>1</td><td>0</td><td>0</td></tr>\n",
       "\t<tr><th scope=row>5</th><td>-0.5139333</td><td>-0.3068071</td><td>-0.90179237</td><td> 3866.855</td><td>0</td><td>1</td><td>0</td><td>0</td></tr>\n",
       "\t<tr><th scope=row>6</th><td>-0.5847864</td><td>-0.8269095</td><td>-0.90179237</td><td> 3756.622</td><td>0</td><td>0</td><td>1</td><td>0</td></tr>\n",
       "</tbody>\n",
       "</table>\n"
      ],
      "text/latex": [
       "A data.frame: 6 × 8\n",
       "\\begin{tabular}{r|llllllll}\n",
       "  & age & bmi & children & charges & smoker\\_yes & region\\_northwest & region\\_southeast & region\\_southwest\\\\\n",
       "  & <dbl> & <dbl> & <dbl> & <dbl> & <int> & <int> & <int> & <int>\\\\\n",
       "\\hline\n",
       "\t1 & -1.4350233 & -0.4691320 & -0.90179237 & 16884.924 & 1 & 0 & 0 & 1\\\\\n",
       "\t2 & -1.5058764 &  0.5031614 & -0.05393305 &  1725.552 & 0 & 0 & 1 & 0\\\\\n",
       "\t3 & -0.7973456 &  0.3756203 &  1.64178558 &  4449.462 & 0 & 0 & 1 & 0\\\\\n",
       "\t4 & -0.4430803 & -1.3296200 & -0.90179237 & 21984.471 & 0 & 1 & 0 & 0\\\\\n",
       "\t5 & -0.5139333 & -0.3068071 & -0.90179237 &  3866.855 & 0 & 1 & 0 & 0\\\\\n",
       "\t6 & -0.5847864 & -0.8269095 & -0.90179237 &  3756.622 & 0 & 0 & 1 & 0\\\\\n",
       "\\end{tabular}\n"
      ],
      "text/markdown": [
       "\n",
       "A data.frame: 6 × 8\n",
       "\n",
       "| <!--/--> | age &lt;dbl&gt; | bmi &lt;dbl&gt; | children &lt;dbl&gt; | charges &lt;dbl&gt; | smoker_yes &lt;int&gt; | region_northwest &lt;int&gt; | region_southeast &lt;int&gt; | region_southwest &lt;int&gt; |\n",
       "|---|---|---|---|---|---|---|---|---|\n",
       "| 1 | -1.4350233 | -0.4691320 | -0.90179237 | 16884.924 | 1 | 0 | 0 | 1 |\n",
       "| 2 | -1.5058764 |  0.5031614 | -0.05393305 |  1725.552 | 0 | 0 | 1 | 0 |\n",
       "| 3 | -0.7973456 |  0.3756203 |  1.64178558 |  4449.462 | 0 | 0 | 1 | 0 |\n",
       "| 4 | -0.4430803 | -1.3296200 | -0.90179237 | 21984.471 | 0 | 1 | 0 | 0 |\n",
       "| 5 | -0.5139333 | -0.3068071 | -0.90179237 |  3866.855 | 0 | 1 | 0 | 0 |\n",
       "| 6 | -0.5847864 | -0.8269095 | -0.90179237 |  3756.622 | 0 | 0 | 1 | 0 |\n",
       "\n"
      ],
      "text/plain": [
       "  age        bmi        children    charges   smoker_yes region_northwest\n",
       "1 -1.4350233 -0.4691320 -0.90179237 16884.924 1          0               \n",
       "2 -1.5058764  0.5031614 -0.05393305  1725.552 0          0               \n",
       "3 -0.7973456  0.3756203  1.64178558  4449.462 0          0               \n",
       "4 -0.4430803 -1.3296200 -0.90179237 21984.471 0          1               \n",
       "5 -0.5139333 -0.3068071 -0.90179237  3866.855 0          1               \n",
       "6 -0.5847864 -0.8269095 -0.90179237  3756.622 0          0               \n",
       "  region_southeast region_southwest\n",
       "1 0                1               \n",
       "2 1                0               \n",
       "3 1                0               \n",
       "4 0                0               \n",
       "5 0                0               \n",
       "6 1                0               "
      ]
     },
     "metadata": {}
    }
   ],
   "metadata": {}
  },
  {
   "cell_type": "markdown",
   "source": [
    "Test Scale:"
   ],
   "metadata": {}
  },
  {
   "cell_type": "code",
   "execution_count": 22,
   "source": [
    "testScaled <- scale(select(test, c(age, bmi, children)))"
   ],
   "outputs": [],
   "metadata": {}
  },
  {
   "cell_type": "code",
   "execution_count": 23,
   "source": [
    "testScaled <- cbind(testScaled, subset(test, select = -c(age, bmi, children)))"
   ],
   "outputs": [],
   "metadata": {}
  },
  {
   "cell_type": "code",
   "execution_count": 24,
   "source": [
    "head(testScaled)"
   ],
   "outputs": [
    {
     "output_type": "display_data",
     "data": {
      "text/html": [
       "<table class=\"dataframe\">\n",
       "<caption>A data.frame: 6 × 8</caption>\n",
       "<thead>\n",
       "\t<tr><th></th><th scope=col>age</th><th scope=col>bmi</th><th scope=col>children</th><th scope=col>charges</th><th scope=col>smoker_yes</th><th scope=col>region_northwest</th><th scope=col>region_southeast</th><th scope=col>region_southwest</th></tr>\n",
       "\t<tr><th></th><th scope=col>&lt;dbl&gt;</th><th scope=col>&lt;dbl&gt;</th><th scope=col>&lt;dbl&gt;</th><th scope=col>&lt;dbl&gt;</th><th scope=col>&lt;int&gt;</th><th scope=col>&lt;int&gt;</th><th scope=col>&lt;int&gt;</th><th scope=col>&lt;int&gt;</th></tr>\n",
       "</thead>\n",
       "<tbody>\n",
       "\t<tr><th scope=row>11</th><td>-1.0223073</td><td>-0.65647193</td><td>-0.9421388</td><td> 2721.321</td><td>0</td><td>0</td><td>0</td><td>0</td></tr>\n",
       "\t<tr><th scope=row>14</th><td> 1.2257946</td><td> 1.48509536</td><td>-0.9421388</td><td>11090.718</td><td>0</td><td>0</td><td>1</td><td>0</td></tr>\n",
       "\t<tr><th scope=row>17</th><td> 0.9357169</td><td> 0.06158299</td><td>-0.1723425</td><td>10797.336</td><td>0</td><td>0</td><td>0</td><td>0</td></tr>\n",
       "\t<tr><th scope=row>22</th><td>-0.6597102</td><td> 0.31668144</td><td>-0.1723425</td><td> 4149.736</td><td>0</td><td>0</td><td>0</td><td>1</td></tr>\n",
       "\t<tr><th scope=row>25</th><td>-0.1520743</td><td>-0.37224186</td><td> 0.5974539</td><td> 6203.902</td><td>0</td><td>1</td><td>0</td><td>0</td></tr>\n",
       "\t<tr><th scope=row>26</th><td> 1.4433528</td><td>-0.42026965</td><td> 1.3672503</td><td>14001.134</td><td>0</td><td>0</td><td>1</td><td>0</td></tr>\n",
       "</tbody>\n",
       "</table>\n"
      ],
      "text/latex": [
       "A data.frame: 6 × 8\n",
       "\\begin{tabular}{r|llllllll}\n",
       "  & age & bmi & children & charges & smoker\\_yes & region\\_northwest & region\\_southeast & region\\_southwest\\\\\n",
       "  & <dbl> & <dbl> & <dbl> & <dbl> & <int> & <int> & <int> & <int>\\\\\n",
       "\\hline\n",
       "\t11 & -1.0223073 & -0.65647193 & -0.9421388 &  2721.321 & 0 & 0 & 0 & 0\\\\\n",
       "\t14 &  1.2257946 &  1.48509536 & -0.9421388 & 11090.718 & 0 & 0 & 1 & 0\\\\\n",
       "\t17 &  0.9357169 &  0.06158299 & -0.1723425 & 10797.336 & 0 & 0 & 0 & 0\\\\\n",
       "\t22 & -0.6597102 &  0.31668144 & -0.1723425 &  4149.736 & 0 & 0 & 0 & 1\\\\\n",
       "\t25 & -0.1520743 & -0.37224186 &  0.5974539 &  6203.902 & 0 & 1 & 0 & 0\\\\\n",
       "\t26 &  1.4433528 & -0.42026965 &  1.3672503 & 14001.134 & 0 & 0 & 1 & 0\\\\\n",
       "\\end{tabular}\n"
      ],
      "text/markdown": [
       "\n",
       "A data.frame: 6 × 8\n",
       "\n",
       "| <!--/--> | age &lt;dbl&gt; | bmi &lt;dbl&gt; | children &lt;dbl&gt; | charges &lt;dbl&gt; | smoker_yes &lt;int&gt; | region_northwest &lt;int&gt; | region_southeast &lt;int&gt; | region_southwest &lt;int&gt; |\n",
       "|---|---|---|---|---|---|---|---|---|\n",
       "| 11 | -1.0223073 | -0.65647193 | -0.9421388 |  2721.321 | 0 | 0 | 0 | 0 |\n",
       "| 14 |  1.2257946 |  1.48509536 | -0.9421388 | 11090.718 | 0 | 0 | 1 | 0 |\n",
       "| 17 |  0.9357169 |  0.06158299 | -0.1723425 | 10797.336 | 0 | 0 | 0 | 0 |\n",
       "| 22 | -0.6597102 |  0.31668144 | -0.1723425 |  4149.736 | 0 | 0 | 0 | 1 |\n",
       "| 25 | -0.1520743 | -0.37224186 |  0.5974539 |  6203.902 | 0 | 1 | 0 | 0 |\n",
       "| 26 |  1.4433528 | -0.42026965 |  1.3672503 | 14001.134 | 0 | 0 | 1 | 0 |\n",
       "\n"
      ],
      "text/plain": [
       "   age        bmi         children   charges   smoker_yes region_northwest\n",
       "11 -1.0223073 -0.65647193 -0.9421388  2721.321 0          0               \n",
       "14  1.2257946  1.48509536 -0.9421388 11090.718 0          0               \n",
       "17  0.9357169  0.06158299 -0.1723425 10797.336 0          0               \n",
       "22 -0.6597102  0.31668144 -0.1723425  4149.736 0          0               \n",
       "25 -0.1520743 -0.37224186  0.5974539  6203.902 0          1               \n",
       "26  1.4433528 -0.42026965  1.3672503 14001.134 0          0               \n",
       "   region_southeast region_southwest\n",
       "11 0                0               \n",
       "14 1                0               \n",
       "17 0                0               \n",
       "22 0                1               \n",
       "25 0                0               \n",
       "26 1                0               "
      ]
     },
     "metadata": {}
    }
   ],
   "metadata": {}
  },
  {
   "cell_type": "markdown",
   "source": [
    "## Compare Linear Regression model with Decision Tree Regressor:\r\n",
    "For the comparison, I will use Mean Absolute Error (MAE) becuase there is too many outliers in charges variables"
   ],
   "metadata": {}
  },
  {
   "cell_type": "markdown",
   "source": [
    "### Linear Regression:"
   ],
   "metadata": {}
  },
  {
   "cell_type": "code",
   "execution_count": 25,
   "source": [
    "linear <- lm(charges ~ ., data = trainScaled)"
   ],
   "outputs": [],
   "metadata": {}
  },
  {
   "cell_type": "code",
   "execution_count": 26,
   "source": [
    "predLinear <- predict(linear, testScaled)"
   ],
   "outputs": [],
   "metadata": {}
  },
  {
   "cell_type": "markdown",
   "source": [
    "### Decision Tree Regressor:\r\n",
    "In decision tree, usually I don't use scaling data because decision tree model doesn't use distance to predict the answer"
   ],
   "metadata": {}
  },
  {
   "cell_type": "code",
   "execution_count": 27,
   "source": [
    "dt <- rpart(charges ~., method = \"anova\", data = train)"
   ],
   "outputs": [],
   "metadata": {}
  },
  {
   "cell_type": "code",
   "execution_count": 28,
   "source": [
    "predTree <- predict(dt, test, method = \"anova\")"
   ],
   "outputs": [],
   "metadata": {}
  },
  {
   "cell_type": "markdown",
   "source": [
    "### Comparison:"
   ],
   "metadata": {}
  },
  {
   "cell_type": "code",
   "execution_count": 29,
   "source": [
    "true = test$charges"
   ],
   "outputs": [],
   "metadata": {}
  },
  {
   "cell_type": "code",
   "execution_count": 30,
   "source": [
    "sprintf(\"MAE for Linear Regression: %.0f\", mean(abs(true - predLinear)))"
   ],
   "outputs": [
    {
     "output_type": "display_data",
     "data": {
      "text/html": [
       "'MAE for Linear Regression: 4336'"
      ],
      "text/latex": [
       "'MAE for Linear Regression: 4336'"
      ],
      "text/markdown": [
       "'MAE for Linear Regression: 4336'"
      ],
      "text/plain": [
       "[1] \"MAE for Linear Regression: 4336\""
      ]
     },
     "metadata": {}
    }
   ],
   "metadata": {}
  },
  {
   "cell_type": "code",
   "execution_count": 31,
   "source": [
    "sprintf(\"MAE for Decision Tree: %.0f\", mean(abs(true - predTree)))"
   ],
   "outputs": [
    {
     "output_type": "display_data",
     "data": {
      "text/html": [
       "'MAE for Decision Tree: 3288'"
      ],
      "text/latex": [
       "'MAE for Decision Tree: 3288'"
      ],
      "text/markdown": [
       "'MAE for Decision Tree: 3288'"
      ],
      "text/plain": [
       "[1] \"MAE for Decision Tree: 3288\""
      ]
     },
     "metadata": {}
    }
   ],
   "metadata": {}
  },
  {
   "cell_type": "markdown",
   "source": [
    "The result is Decision Tree performed better than Linear Regression model and I think this makes sense because in EDA linear correlation between numerical variables and charges not too strong. "
   ],
   "metadata": {}
  },
  {
   "cell_type": "markdown",
   "source": [
    "## Hyperparameter Tuning:\r\n",
    "From the above comparison model, I will tune the hyperparameter of Decision Tree model, such as max depth, min split, and min bucket. But, before I do that, I will test ensemble model like Random Forest and XGBoost to determine whether the decision tree model can be improved by using ensemble model or not"
   ],
   "metadata": {}
  },
  {
   "cell_type": "markdown",
   "source": [
    "### Decision Tree:"
   ],
   "metadata": {}
  },
  {
   "cell_type": "code",
   "execution_count": 32,
   "source": [
    "dt <- rpart(charges ~., method = \"anova\", data = train)"
   ],
   "outputs": [],
   "metadata": {}
  },
  {
   "cell_type": "code",
   "execution_count": 33,
   "source": [
    "predTree <- predict(dt, test, method = \"anova\")"
   ],
   "outputs": [],
   "metadata": {}
  },
  {
   "cell_type": "code",
   "execution_count": 34,
   "source": [
    "sprintf(\"MAE for Decision Tree: %.0f\", mean(abs(true - predTree)))"
   ],
   "outputs": [
    {
     "output_type": "display_data",
     "data": {
      "text/html": [
       "'MAE for Decision Tree: 3288'"
      ],
      "text/latex": [
       "'MAE for Decision Tree: 3288'"
      ],
      "text/markdown": [
       "'MAE for Decision Tree: 3288'"
      ],
      "text/plain": [
       "[1] \"MAE for Decision Tree: 3288\""
      ]
     },
     "metadata": {}
    }
   ],
   "metadata": {}
  },
  {
   "cell_type": "markdown",
   "source": [
    "### Random Forest:"
   ],
   "metadata": {}
  },
  {
   "cell_type": "code",
   "execution_count": 66,
   "source": [
    "rfTree <- randomForest(charges ~ ., data = train)"
   ],
   "outputs": [],
   "metadata": {}
  },
  {
   "cell_type": "code",
   "execution_count": 67,
   "source": [
    "predRfTree <- predict(rfTree, test)"
   ],
   "outputs": [],
   "metadata": {}
  },
  {
   "cell_type": "code",
   "execution_count": 68,
   "source": [
    "sprintf(\"MAE for Random Forest Tree: %.0f\", mean(abs(true - predRfTree)))"
   ],
   "outputs": [
    {
     "output_type": "display_data",
     "data": {
      "text/html": [
       "'MAE for Random Forest Tree: 3241'"
      ],
      "text/latex": [
       "'MAE for Random Forest Tree: 3241'"
      ],
      "text/markdown": [
       "'MAE for Random Forest Tree: 3241'"
      ],
      "text/plain": [
       "[1] \"MAE for Random Forest Tree: 3241\""
      ]
     },
     "metadata": {}
    }
   ],
   "metadata": {}
  },
  {
   "cell_type": "markdown",
   "source": [
    "### XGBoost"
   ],
   "metadata": {}
  },
  {
   "cell_type": "code",
   "execution_count": 38,
   "source": [
    "xgbTree <- xgboost(as.matrix(select(train, -c(charges))), label = train$charges, nrounds = 2, objective = \"reg:linear\")"
   ],
   "outputs": [
    {
     "output_type": "stream",
     "name": "stdout",
     "text": [
      "[22:07:56] WARNING: amalgamation/../src/objective/regression_obj.cu:171: reg:linear is now deprecated in favor of reg:squarederror.\n",
      "[1]\ttrain-rmse:12995.233398 \n",
      "[2]\ttrain-rmse:9667.926758 \n"
     ]
    }
   ],
   "metadata": {}
  },
  {
   "cell_type": "code",
   "execution_count": 39,
   "source": [
    "predXgbTree <- predict(xgbTree, as.matrix(select(test, -c(charges))))"
   ],
   "outputs": [],
   "metadata": {}
  },
  {
   "cell_type": "code",
   "execution_count": 40,
   "source": [
    "sprintf(\"MAE for XGBoost Tree: %.0f\", mean(abs(true - predXgbTree)))"
   ],
   "outputs": [
    {
     "output_type": "display_data",
     "data": {
      "text/html": [
       "'MAE for XGBoost Tree: 6868'"
      ],
      "text/latex": [
       "'MAE for XGBoost Tree: 6868'"
      ],
      "text/markdown": [
       "'MAE for XGBoost Tree: 6868'"
      ],
      "text/plain": [
       "[1] \"MAE for XGBoost Tree: 6868\""
      ]
     },
     "metadata": {}
    }
   ],
   "metadata": {}
  },
  {
   "cell_type": "markdown",
   "source": [
    "### Random Forest Hyperparameter Tuning:\r\n",
    "Random Forest model gives the best performance on my this data because of that I will tuning the hyperparameter of Random Forest"
   ],
   "metadata": {}
  },
  {
   "cell_type": "code",
   "execution_count": 41,
   "source": [
    "RF_tree <- makeRegrTask(data = train, target = \"charges\")"
   ],
   "outputs": [],
   "metadata": {}
  },
  {
   "cell_type": "code",
   "execution_count": 42,
   "source": [
    "RF_learner <- makeLearner(\"regr.randomForest\")"
   ],
   "outputs": [],
   "metadata": {}
  },
  {
   "cell_type": "code",
   "execution_count": 43,
   "source": [
    "getParamSet(RF_learner)"
   ],
   "outputs": [
    {
     "output_type": "display_data",
     "data": {
      "text/plain": [
       "                     Type  len   Def                 Constr Req Tunable Trafo\n",
       "ntree             integer    -   500               1 to Inf   -    TRUE     -\n",
       "se.ntree          integer    -   100               1 to Inf   Y    TRUE     -\n",
       "se.method        discrete    -    sd bootstrap,jackknife,sd   Y    TRUE     -\n",
       "se.boot           integer    -    50               1 to Inf   -    TRUE     -\n",
       "mtry              integer    -     -               1 to Inf   -    TRUE     -\n",
       "replace           logical    -  TRUE                      -   -    TRUE     -\n",
       "strata            untyped    -     -                      -   -   FALSE     -\n",
       "sampsize    integervector <NA>     -               1 to Inf   -    TRUE     -\n",
       "nodesize          integer    -     5               1 to Inf   -    TRUE     -\n",
       "maxnodes          integer    -     -               1 to Inf   -    TRUE     -\n",
       "importance        logical    - FALSE                      -   -    TRUE     -\n",
       "localImp          logical    - FALSE                      -   -    TRUE     -\n",
       "nPerm             integer    -     1            -Inf to Inf   -    TRUE     -\n",
       "proximity         logical    - FALSE                      -   -   FALSE     -\n",
       "oob.prox          logical    -     -                      -   Y   FALSE     -\n",
       "do.trace          logical    - FALSE                      -   -   FALSE     -\n",
       "keep.forest       logical    -  TRUE                      -   -   FALSE     -\n",
       "keep.inbag        logical    - FALSE                      -   -   FALSE     -"
      ]
     },
     "metadata": {}
    }
   ],
   "metadata": {}
  },
  {
   "cell_type": "code",
   "execution_count": 44,
   "source": [
    "param <- makeParamSet(makeIntegerParam(\"ntree\", lower = 200, upper = 500), makeIntegerParam(\"mtry\", lower = 3, upper = 5), makeIntegerParam(\"nodesize\", lower = 1,upper = 3), makeIntegerParam(\"maxnodes\", lower = 5, upper = 10))"
   ],
   "outputs": [],
   "metadata": {}
  },
  {
   "cell_type": "code",
   "execution_count": 45,
   "source": [
    "randSearch <- makeTuneControlRandom(maxit = 100)"
   ],
   "outputs": [],
   "metadata": {}
  },
  {
   "cell_type": "code",
   "execution_count": 46,
   "source": [
    "Kfold <- makeResampleDesc(method = \"RepCV\", fold = 10, reps = 5)"
   ],
   "outputs": [],
   "metadata": {}
  },
  {
   "cell_type": "code",
   "execution_count": 48,
   "source": [
    "Turning_para <- tuneParams(RF_learner, RF_tree, resampling = Kfold, par.set = param, control = randSearch)"
   ],
   "outputs": [
    {
     "output_type": "stream",
     "name": "stderr",
     "text": [
      "[Tune] Started tuning learner regr.randomForest for parameter set:\n",
      "\n",
      "            Type len Def     Constr Req Tunable Trafo\n",
      "ntree    integer   -   - 200 to 500   -    TRUE     -\n",
      "mtry     integer   -   -     3 to 5   -    TRUE     -\n",
      "nodesize integer   -   -     1 to 3   -    TRUE     -\n",
      "maxnodes integer   -   -    5 to 10   -    TRUE     -\n",
      "\n",
      "With control class: TuneControlRandom\n",
      "\n",
      "Imputation value: Inf\n",
      "\n",
      "[Tune-x] 1: ntree=424; mtry=5; nodesize=1; maxnodes=5\n",
      "\n",
      "[Tune-y] 1: mse.test.mean=28481491.4596981; time: 0.2 min\n",
      "\n",
      "[Tune-x] 2: ntree=242; mtry=4; nodesize=2; maxnodes=10\n",
      "\n",
      "[Tune-y] 2: mse.test.mean=24716668.7011322; time: 0.1 min\n",
      "\n",
      "[Tune-x] 3: ntree=435; mtry=4; nodesize=2; maxnodes=10\n",
      "\n",
      "[Tune-y] 3: mse.test.mean=24600115.4808140; time: 0.2 min\n",
      "\n",
      "[Tune-x] 4: ntree=287; mtry=3; nodesize=2; maxnodes=5\n",
      "\n",
      "[Tune-y] 4: mse.test.mean=43711641.8278469; time: 0.1 min\n",
      "\n",
      "[Tune-x] 5: ntree=314; mtry=3; nodesize=3; maxnodes=8\n",
      "\n",
      "[Tune-y] 5: mse.test.mean=31644953.1470172; time: 0.1 min\n",
      "\n",
      "[Tune-x] 6: ntree=243; mtry=5; nodesize=3; maxnodes=5\n",
      "\n",
      "[Tune-y] 6: mse.test.mean=28651623.2571160; time: 0.1 min\n",
      "\n",
      "[Tune-x] 7: ntree=314; mtry=4; nodesize=3; maxnodes=10\n",
      "\n",
      "[Tune-y] 7: mse.test.mean=24680188.8683730; time: 0.1 min\n",
      "\n",
      "[Tune-x] 8: ntree=365; mtry=3; nodesize=1; maxnodes=7\n",
      "\n",
      "[Tune-y] 8: mse.test.mean=35283157.2750347; time: 0.1 min\n",
      "\n",
      "[Tune-x] 9: ntree=317; mtry=4; nodesize=3; maxnodes=10\n",
      "\n",
      "[Tune-y] 9: mse.test.mean=24691822.2145571; time: 0.1 min\n",
      "\n",
      "[Tune-x] 10: ntree=497; mtry=3; nodesize=2; maxnodes=6\n",
      "\n",
      "[Tune-y] 10: mse.test.mean=39426578.4764599; time: 0.1 min\n",
      "\n",
      "[Tune-x] 11: ntree=491; mtry=5; nodesize=1; maxnodes=5\n",
      "\n",
      "[Tune-y] 11: mse.test.mean=28528570.9087158; time: 0.2 min\n",
      "\n",
      "[Tune-x] 12: ntree=315; mtry=5; nodesize=2; maxnodes=6\n",
      "\n",
      "[Tune-y] 12: mse.test.mean=26506387.5315147; time: 0.1 min\n",
      "\n",
      "[Tune-x] 13: ntree=495; mtry=4; nodesize=3; maxnodes=10\n",
      "\n",
      "[Tune-y] 13: mse.test.mean=24505311.1003573; time: 0.2 min\n",
      "\n",
      "[Tune-x] 14: ntree=488; mtry=3; nodesize=2; maxnodes=10\n",
      "\n",
      "[Tune-y] 14: mse.test.mean=30452286.4071111; time: 0.2 min\n",
      "\n",
      "[Tune-x] 15: ntree=205; mtry=4; nodesize=3; maxnodes=5\n",
      "\n",
      "[Tune-y] 15: mse.test.mean=34440115.3660255; time: 0.1 min\n",
      "\n",
      "[Tune-x] 16: ntree=469; mtry=5; nodesize=2; maxnodes=10\n",
      "\n",
      "[Tune-y] 16: mse.test.mean=22375737.8399941; time: 0.2 min\n",
      "\n",
      "[Tune-x] 17: ntree=349; mtry=4; nodesize=1; maxnodes=9\n",
      "\n",
      "[Tune-y] 17: mse.test.mean=24989606.3773625; time: 0.1 min\n",
      "\n",
      "[Tune-x] 18: ntree=387; mtry=5; nodesize=1; maxnodes=8\n",
      "\n",
      "[Tune-y] 18: mse.test.mean=22696865.5898075; time: 0.2 min\n",
      "\n",
      "[Tune-x] 19: ntree=376; mtry=3; nodesize=3; maxnodes=6\n",
      "\n",
      "[Tune-y] 19: mse.test.mean=39559349.0719685; time: 0.1 min\n",
      "\n",
      "[Tune-x] 20: ntree=415; mtry=3; nodesize=2; maxnodes=10\n",
      "\n",
      "[Tune-y] 20: mse.test.mean=30191977.2596440; time: 0.1 min\n",
      "\n",
      "[Tune-x] 21: ntree=332; mtry=3; nodesize=3; maxnodes=5\n",
      "\n",
      "[Tune-y] 21: mse.test.mean=44142076.9115136; time: 0.1 min\n",
      "\n",
      "[Tune-x] 22: ntree=319; mtry=5; nodesize=2; maxnodes=8\n",
      "\n",
      "[Tune-y] 22: mse.test.mean=22685479.5374080; time: 0.1 min\n",
      "\n",
      "[Tune-x] 23: ntree=405; mtry=5; nodesize=1; maxnodes=5\n",
      "\n",
      "[Tune-y] 23: mse.test.mean=28421024.3543955; time: 0.1 min\n",
      "\n",
      "[Tune-x] 24: ntree=242; mtry=3; nodesize=2; maxnodes=5\n",
      "\n",
      "[Tune-y] 24: mse.test.mean=43998591.3391066; time: 0.1 min\n",
      "\n",
      "[Tune-x] 25: ntree=271; mtry=3; nodesize=3; maxnodes=6\n",
      "\n",
      "[Tune-y] 25: mse.test.mean=39620148.6601458; time: 0.1 min\n",
      "\n",
      "[Tune-x] 26: ntree=366; mtry=5; nodesize=1; maxnodes=5\n",
      "\n",
      "[Tune-y] 26: mse.test.mean=28638873.0580445; time: 0.1 min\n",
      "\n",
      "[Tune-x] 27: ntree=372; mtry=3; nodesize=2; maxnodes=10\n",
      "\n",
      "[Tune-y] 27: mse.test.mean=30425991.4202419; time: 0.1 min\n",
      "\n",
      "[Tune-x] 28: ntree=283; mtry=3; nodesize=1; maxnodes=8\n",
      "\n",
      "[Tune-y] 28: mse.test.mean=31817863.8200495; time: 0.1 min\n",
      "\n",
      "[Tune-x] 29: ntree=495; mtry=3; nodesize=3; maxnodes=10\n",
      "\n",
      "[Tune-y] 29: mse.test.mean=30178004.2189122; time: 0.2 min\n",
      "\n",
      "[Tune-x] 30: ntree=354; mtry=3; nodesize=2; maxnodes=8\n",
      "\n",
      "[Tune-y] 30: mse.test.mean=31921350.9056388; time: 0.1 min\n",
      "\n",
      "[Tune-x] 31: ntree=436; mtry=4; nodesize=1; maxnodes=8\n",
      "\n",
      "[Tune-y] 31: mse.test.mean=25270606.6857693; time: 0.2 min\n",
      "\n",
      "[Tune-x] 32: ntree=342; mtry=3; nodesize=3; maxnodes=5\n",
      "\n",
      "[Tune-y] 32: mse.test.mean=43885247.9254535; time: 0.1 min\n",
      "\n",
      "[Tune-x] 33: ntree=302; mtry=3; nodesize=2; maxnodes=7\n",
      "\n",
      "[Tune-y] 33: mse.test.mean=35070861.3667222; time: 0.1 min\n",
      "\n",
      "[Tune-x] 34: ntree=490; mtry=4; nodesize=2; maxnodes=9\n",
      "\n",
      "[Tune-y] 34: mse.test.mean=24830216.7982183; time: 0.2 min\n",
      "\n",
      "[Tune-x] 35: ntree=483; mtry=4; nodesize=1; maxnodes=7\n",
      "\n",
      "[Tune-y] 35: mse.test.mean=27943515.5491467; time: 0.2 min\n",
      "\n",
      "[Tune-x] 36: ntree=378; mtry=4; nodesize=1; maxnodes=9\n",
      "\n",
      "[Tune-y] 36: mse.test.mean=24905973.5487801; time: 0.2 min\n",
      "\n",
      "[Tune-x] 37: ntree=259; mtry=3; nodesize=2; maxnodes=10\n",
      "\n",
      "[Tune-y] 37: mse.test.mean=30418111.1980603; time: 0.1 min\n",
      "\n",
      "[Tune-x] 38: ntree=428; mtry=4; nodesize=2; maxnodes=9\n",
      "\n",
      "[Tune-y] 38: mse.test.mean=24972123.7508777; time: 0.2 min\n",
      "\n",
      "[Tune-x] 39: ntree=458; mtry=5; nodesize=1; maxnodes=9\n",
      "\n",
      "[Tune-y] 39: mse.test.mean=22402621.7748633; time: 0.2 min\n",
      "\n",
      "[Tune-x] 40: ntree=491; mtry=3; nodesize=2; maxnodes=5\n",
      "\n",
      "[Tune-y] 40: mse.test.mean=43823547.0051957; time: 0.1 min\n",
      "\n",
      "[Tune-x] 41: ntree=482; mtry=3; nodesize=2; maxnodes=5\n",
      "\n",
      "[Tune-y] 41: mse.test.mean=43919555.4817649; time: 0.1 min\n",
      "\n",
      "[Tune-x] 42: ntree=339; mtry=5; nodesize=2; maxnodes=9\n",
      "\n",
      "[Tune-y] 42: mse.test.mean=22395802.8084939; time: 0.2 min\n",
      "\n",
      "[Tune-x] 43: ntree=350; mtry=3; nodesize=2; maxnodes=10\n",
      "\n",
      "[Tune-y] 43: mse.test.mean=30460829.1618326; time: 0.1 min\n",
      "\n",
      "[Tune-x] 44: ntree=421; mtry=5; nodesize=2; maxnodes=6\n",
      "\n",
      "[Tune-y] 44: mse.test.mean=26449303.2543591; time: 0.2 min\n",
      "\n",
      "[Tune-x] 45: ntree=433; mtry=3; nodesize=3; maxnodes=9\n",
      "\n",
      "[Tune-y] 45: mse.test.mean=31213854.3594200; time: 0.1 min\n",
      "\n",
      "[Tune-x] 46: ntree=430; mtry=3; nodesize=1; maxnodes=10\n",
      "\n",
      "[Tune-y] 46: mse.test.mean=30324445.9768541; time: 0.1 min\n",
      "\n",
      "[Tune-x] 47: ntree=376; mtry=5; nodesize=1; maxnodes=10\n",
      "\n",
      "[Tune-y] 47: mse.test.mean=22333894.0284249; time: 0.2 min\n",
      "\n",
      "[Tune-x] 48: ntree=234; mtry=4; nodesize=2; maxnodes=8\n",
      "\n",
      "[Tune-y] 48: mse.test.mean=25111160.5867481; time: 0.1 min\n",
      "\n",
      "[Tune-x] 49: ntree=234; mtry=3; nodesize=3; maxnodes=10\n",
      "\n",
      "[Tune-y] 49: mse.test.mean=30153400.7395662; time: 0.1 min\n",
      "\n",
      "[Tune-x] 50: ntree=411; mtry=3; nodesize=1; maxnodes=5\n",
      "\n",
      "[Tune-y] 50: mse.test.mean=43868692.2947071; time: 0.1 min\n",
      "\n",
      "[Tune-x] 51: ntree=341; mtry=5; nodesize=3; maxnodes=6\n",
      "\n",
      "[Tune-y] 51: mse.test.mean=26418228.3116778; time: 0.1 min\n",
      "\n",
      "[Tune-x] 52: ntree=309; mtry=4; nodesize=3; maxnodes=5\n",
      "\n",
      "[Tune-y] 52: mse.test.mean=34226155.7291846; time: 0.1 min\n",
      "\n",
      "[Tune-x] 53: ntree=448; mtry=5; nodesize=2; maxnodes=9\n",
      "\n",
      "[Tune-y] 53: mse.test.mean=22427577.1058433; time: 0.2 min\n",
      "\n",
      "[Tune-x] 54: ntree=473; mtry=3; nodesize=1; maxnodes=8\n",
      "\n",
      "[Tune-y] 54: mse.test.mean=31587050.1945110; time: 0.1 min\n",
      "\n",
      "[Tune-x] 55: ntree=218; mtry=3; nodesize=1; maxnodes=6\n",
      "\n",
      "[Tune-y] 55: mse.test.mean=39514624.2928248; time: 0.1 min\n",
      "\n",
      "[Tune-x] 56: ntree=231; mtry=5; nodesize=2; maxnodes=6\n",
      "\n",
      "[Tune-y] 56: mse.test.mean=26426719.9090911; time: 0.1 min\n",
      "\n",
      "[Tune-x] 57: ntree=361; mtry=3; nodesize=3; maxnodes=6\n",
      "\n",
      "[Tune-y] 57: mse.test.mean=39334598.6790417; time: 0.1 min\n",
      "\n",
      "[Tune-x] 58: ntree=283; mtry=3; nodesize=3; maxnodes=8\n",
      "\n",
      "[Tune-y] 58: mse.test.mean=31564555.8783527; time: 0.1 min\n",
      "\n",
      "[Tune-x] 59: ntree=447; mtry=4; nodesize=1; maxnodes=9\n",
      "\n",
      "[Tune-y] 59: mse.test.mean=24912919.1428808; time: 0.2 min\n",
      "\n",
      "[Tune-x] 60: ntree=464; mtry=5; nodesize=2; maxnodes=6\n",
      "\n",
      "[Tune-y] 60: mse.test.mean=26498531.0141362; time: 0.2 min\n",
      "\n",
      "[Tune-x] 61: ntree=348; mtry=4; nodesize=1; maxnodes=10\n",
      "\n",
      "[Tune-y] 61: mse.test.mean=24629762.6266658; time: 0.1 min\n",
      "\n",
      "[Tune-x] 62: ntree=479; mtry=5; nodesize=1; maxnodes=8\n",
      "\n",
      "[Tune-y] 62: mse.test.mean=22680673.0802418; time: 0.2 min\n",
      "\n",
      "[Tune-x] 63: ntree=381; mtry=3; nodesize=3; maxnodes=7\n",
      "\n",
      "[Tune-y] 63: mse.test.mean=34868966.9804508; time: 0.1 min\n",
      "\n",
      "[Tune-x] 64: ntree=370; mtry=5; nodesize=2; maxnodes=6\n",
      "\n",
      "[Tune-y] 64: mse.test.mean=26551536.6636336; time: 0.2 min\n",
      "\n",
      "[Tune-x] 65: ntree=393; mtry=3; nodesize=1; maxnodes=7\n",
      "\n",
      "[Tune-y] 65: mse.test.mean=35442865.3144075; time: 0.1 min\n",
      "\n",
      "[Tune-x] 66: ntree=454; mtry=4; nodesize=2; maxnodes=6\n",
      "\n",
      "[Tune-y] 66: mse.test.mean=31101997.1362897; time: 0.2 min\n",
      "\n",
      "[Tune-x] 67: ntree=404; mtry=5; nodesize=3; maxnodes=9\n",
      "\n",
      "[Tune-y] 67: mse.test.mean=22483524.8546056; time: 0.2 min\n",
      "\n",
      "[Tune-x] 68: ntree=243; mtry=4; nodesize=3; maxnodes=10\n",
      "\n",
      "[Tune-y] 68: mse.test.mean=24697936.6127027; time: 0.1 min\n",
      "\n",
      "[Tune-x] 69: ntree=333; mtry=4; nodesize=1; maxnodes=6\n",
      "\n",
      "[Tune-y] 69: mse.test.mean=31043865.3837245; time: 0.1 min\n",
      "\n",
      "[Tune-x] 70: ntree=315; mtry=5; nodesize=2; maxnodes=9\n",
      "\n",
      "[Tune-y] 70: mse.test.mean=22456948.5312829; time: 0.2 min\n",
      "\n",
      "[Tune-x] 71: ntree=250; mtry=5; nodesize=1; maxnodes=5\n",
      "\n",
      "[Tune-y] 71: mse.test.mean=28482692.5437160; time: 0.1 min\n",
      "\n",
      "[Tune-x] 72: ntree=397; mtry=5; nodesize=1; maxnodes=8\n",
      "\n",
      "[Tune-y] 72: mse.test.mean=22677872.3253651; time: 0.2 min\n",
      "\n",
      "[Tune-x] 73: ntree=292; mtry=5; nodesize=2; maxnodes=7\n",
      "\n",
      "[Tune-y] 73: mse.test.mean=24924398.9897132; time: 0.1 min\n",
      "\n",
      "[Tune-x] 74: ntree=255; mtry=5; nodesize=2; maxnodes=8\n",
      "\n",
      "[Tune-y] 74: mse.test.mean=22658176.0838276; time: 0.1 min\n",
      "\n",
      "[Tune-x] 75: ntree=367; mtry=3; nodesize=3; maxnodes=8\n",
      "\n",
      "[Tune-y] 75: mse.test.mean=31512320.4193856; time: 0.1 min\n",
      "\n",
      "[Tune-x] 76: ntree=463; mtry=4; nodesize=2; maxnodes=5\n",
      "\n",
      "[Tune-y] 76: mse.test.mean=34082114.5753950; time: 0.2 min\n",
      "\n",
      "[Tune-x] 77: ntree=432; mtry=3; nodesize=3; maxnodes=6\n",
      "\n",
      "[Tune-y] 77: mse.test.mean=39479602.9831558; time: 0.1 min\n",
      "\n",
      "[Tune-x] 78: ntree=364; mtry=5; nodesize=1; maxnodes=7\n",
      "\n",
      "[Tune-y] 78: mse.test.mean=24951869.0307340; time: 0.2 min\n",
      "\n",
      "[Tune-x] 79: ntree=362; mtry=5; nodesize=3; maxnodes=5\n",
      "\n",
      "[Tune-y] 79: mse.test.mean=28528121.5416523; time: 0.1 min\n",
      "\n",
      "[Tune-x] 80: ntree=335; mtry=5; nodesize=3; maxnodes=6\n",
      "\n",
      "[Tune-y] 80: mse.test.mean=26547249.5232348; time: 0.1 min\n",
      "\n",
      "[Tune-x] 81: ntree=365; mtry=5; nodesize=3; maxnodes=5\n",
      "\n",
      "[Tune-y] 81: mse.test.mean=28462383.8955716; time: 0.1 min\n",
      "\n",
      "[Tune-x] 82: ntree=496; mtry=5; nodesize=1; maxnodes=10\n",
      "\n",
      "[Tune-y] 82: mse.test.mean=22331912.1105738; time: 0.3 min\n",
      "\n",
      "[Tune-x] 83: ntree=244; mtry=4; nodesize=3; maxnodes=10\n",
      "\n",
      "[Tune-y] 83: mse.test.mean=24702468.7249104; time: 0.1 min\n",
      "\n",
      "[Tune-x] 84: ntree=254; mtry=4; nodesize=2; maxnodes=8\n",
      "\n",
      "[Tune-y] 84: mse.test.mean=25168620.2695640; time: 0.1 min\n",
      "\n",
      "[Tune-x] 85: ntree=488; mtry=3; nodesize=1; maxnodes=7\n",
      "\n",
      "[Tune-y] 85: mse.test.mean=35077687.4620007; time: 0.1 min\n",
      "\n",
      "[Tune-x] 86: ntree=239; mtry=4; nodesize=3; maxnodes=7\n",
      "\n",
      "[Tune-y] 86: mse.test.mean=28109324.6809543; time: 0.1 min\n",
      "\n",
      "[Tune-x] 87: ntree=348; mtry=5; nodesize=3; maxnodes=5\n",
      "\n",
      "[Tune-y] 87: mse.test.mean=28644688.2834409; time: 0.1 min\n",
      "\n",
      "[Tune-x] 88: ntree=296; mtry=3; nodesize=1; maxnodes=8\n",
      "\n",
      "[Tune-y] 88: mse.test.mean=31738508.9558229; time: 0.1 min\n",
      "\n",
      "[Tune-x] 89: ntree=396; mtry=4; nodesize=3; maxnodes=6\n",
      "\n",
      "[Tune-y] 89: mse.test.mean=31168398.3195157; time: 0.1 min\n",
      "\n",
      "[Tune-x] 90: ntree=241; mtry=3; nodesize=3; maxnodes=6\n",
      "\n",
      "[Tune-y] 90: mse.test.mean=39770689.4903865; time: 0.1 min\n",
      "\n",
      "[Tune-x] 91: ntree=392; mtry=3; nodesize=3; maxnodes=10\n",
      "\n",
      "[Tune-y] 91: mse.test.mean=30282522.1414395; time: 0.1 min\n",
      "\n",
      "[Tune-x] 92: ntree=200; mtry=4; nodesize=3; maxnodes=5\n",
      "\n",
      "[Tune-y] 92: mse.test.mean=34287035.6757432; time: 0.1 min\n",
      "\n",
      "[Tune-x] 93: ntree=303; mtry=4; nodesize=1; maxnodes=9\n",
      "\n",
      "[Tune-y] 93: mse.test.mean=25010620.7079004; time: 0.1 min\n",
      "\n",
      "[Tune-x] 94: ntree=234; mtry=4; nodesize=1; maxnodes=7\n",
      "\n",
      "[Tune-y] 94: mse.test.mean=28194144.0760584; time: 0.1 min\n",
      "\n",
      "[Tune-x] 95: ntree=261; mtry=5; nodesize=1; maxnodes=8\n",
      "\n",
      "[Tune-y] 95: mse.test.mean=22728410.8914740; time: 0.1 min\n",
      "\n",
      "[Tune-x] 96: ntree=434; mtry=5; nodesize=1; maxnodes=8\n",
      "\n",
      "[Tune-y] 96: mse.test.mean=22711748.7507107; time: 0.2 min\n",
      "\n",
      "[Tune-x] 97: ntree=294; mtry=5; nodesize=3; maxnodes=5\n",
      "\n",
      "[Tune-y] 97: mse.test.mean=28567233.1992727; time: 0.1 min\n",
      "\n",
      "[Tune-x] 98: ntree=253; mtry=3; nodesize=3; maxnodes=5\n",
      "\n",
      "[Tune-y] 98: mse.test.mean=43876758.0849415; time: 0.1 min\n",
      "\n",
      "[Tune-x] 99: ntree=446; mtry=4; nodesize=3; maxnodes=10\n",
      "\n",
      "[Tune-y] 99: mse.test.mean=24617188.9795459; time: 0.2 min\n",
      "\n",
      "[Tune-x] 100: ntree=398; mtry=3; nodesize=2; maxnodes=10\n",
      "\n",
      "[Tune-y] 100: mse.test.mean=30336090.9991192; time: 0.1 min\n",
      "\n",
      "[Tune] Result: ntree=496; mtry=5; nodesize=1; maxnodes=10 : mse.test.mean=22331912.1105738\n",
      "\n"
     ]
    }
   ],
   "metadata": {}
  },
  {
   "cell_type": "code",
   "execution_count": 49,
   "source": [
    "Turning_para"
   ],
   "outputs": [
    {
     "output_type": "display_data",
     "data": {
      "text/plain": [
       "Tune result:\n",
       "Op. pars: ntree=496; mtry=5; nodesize=1; maxnodes=10\n",
       "mse.test.mean=22331912.1105738"
      ]
     },
     "metadata": {}
    }
   ],
   "metadata": {}
  },
  {
   "cell_type": "markdown",
   "source": [
    "From here, the best hyperparameter is:\r\n",
    "- ntree = 496\r\n",
    "- mtry = 5\r\n",
    "- nodesize = 1\r\n",
    "- maxnodes = 10"
   ],
   "metadata": {}
  },
  {
   "cell_type": "markdown",
   "source": [
    "## Evaluation:\r\n",
    "In this part, I will compare hyperparmeter tuning result with default Random Forest to check if there is a performance increase or not. I will use MAE to check that"
   ],
   "metadata": {}
  },
  {
   "cell_type": "markdown",
   "source": [
    "### Random Forest Default:"
   ],
   "metadata": {}
  },
  {
   "cell_type": "code",
   "execution_count": 73,
   "source": [
    "rfTree <- randomForest(charges ~ ., data = train)"
   ],
   "outputs": [],
   "metadata": {}
  },
  {
   "cell_type": "code",
   "execution_count": 74,
   "source": [
    "predRfTree <- predict(rfTree, test)"
   ],
   "outputs": [],
   "metadata": {}
  },
  {
   "cell_type": "code",
   "execution_count": 75,
   "source": [
    "sprintf(\"MAE for Random Forest Tree: %.0f\", mean(abs(true - predRfTree)))"
   ],
   "outputs": [
    {
     "output_type": "display_data",
     "data": {
      "text/html": [
       "'MAE for Random Forest Tree: 3235'"
      ],
      "text/latex": [
       "'MAE for Random Forest Tree: 3235'"
      ],
      "text/markdown": [
       "'MAE for Random Forest Tree: 3235'"
      ],
      "text/plain": [
       "[1] \"MAE for Random Forest Tree: 3235\""
      ]
     },
     "metadata": {}
    }
   ],
   "metadata": {}
  },
  {
   "cell_type": "markdown",
   "source": [
    "### Random Forest After Tuning"
   ],
   "metadata": {}
  },
  {
   "cell_type": "code",
   "execution_count": 104,
   "source": [
    "rfTreeTuning <- randomForest(charges ~ ., data = train, ntree = 496, mtry = 5, nodesize = 1, maxnodes = 10, importance = TRUE)"
   ],
   "outputs": [],
   "metadata": {}
  },
  {
   "cell_type": "code",
   "execution_count": 105,
   "source": [
    "predRfTreeTuning <- predict(rfTreeTuning, test)"
   ],
   "outputs": [],
   "metadata": {}
  },
  {
   "cell_type": "code",
   "execution_count": 106,
   "source": [
    "sprintf(\"MAE for Random Forest Tree: %.0f\", mean(abs(true - predRfTreeTuning)))"
   ],
   "outputs": [
    {
     "output_type": "display_data",
     "data": {
      "text/html": [
       "'MAE for Random Forest Tree: 2667'"
      ],
      "text/latex": [
       "'MAE for Random Forest Tree: 2667'"
      ],
      "text/markdown": [
       "'MAE for Random Forest Tree: 2667'"
      ],
      "text/plain": [
       "[1] \"MAE for Random Forest Tree: 2667\""
      ]
     },
     "metadata": {}
    }
   ],
   "metadata": {}
  },
  {
   "cell_type": "markdown",
   "source": [
    "There is a significant increase in performance after the model is tuned so that in the future the model I will use is the model that has been tuned."
   ],
   "metadata": {}
  },
  {
   "cell_type": "markdown",
   "source": [
    "## Model Interpretation:\r\n",
    "Random Forest is one of the models that is not easy to interpret. One way that can be done to see how this model determine the results is to look at feature importance. Through feature importance, I can answer my curiosity about \"What features are the most influential in determining the insurance fee of each customer?\" in Part 01"
   ],
   "metadata": {}
  },
  {
   "cell_type": "code",
   "execution_count": 121,
   "source": [
    "importance <- importance(rfTreeTuning)"
   ],
   "outputs": [],
   "metadata": {}
  },
  {
   "cell_type": "code",
   "execution_count": 127,
   "source": [
    "importance"
   ],
   "outputs": [
    {
     "output_type": "display_data",
     "data": {
      "text/html": [
       "<table class=\"dataframe\">\n",
       "<caption>A matrix: 7 × 2 of type dbl</caption>\n",
       "<thead>\n",
       "\t<tr><th></th><th scope=col>%IncMSE</th><th scope=col>IncNodePurity</th></tr>\n",
       "</thead>\n",
       "<tbody>\n",
       "\t<tr><th scope=row>age</th><td> 98.3117846</td><td>13357136656</td></tr>\n",
       "\t<tr><th scope=row>bmi</th><td> 57.4165909</td><td>17544893366</td></tr>\n",
       "\t<tr><th scope=row>children</th><td> 17.1206991</td><td>  722821265</td></tr>\n",
       "\t<tr><th scope=row>smoker_yes</th><td>152.1224945</td><td>95934902270</td></tr>\n",
       "\t<tr><th scope=row>region_northwest</th><td>  0.2025584</td><td>   29060741</td></tr>\n",
       "\t<tr><th scope=row>region_southeast</th><td> -0.9306594</td><td>   48029142</td></tr>\n",
       "\t<tr><th scope=row>region_southwest</th><td>  1.1597559</td><td>   34832693</td></tr>\n",
       "</tbody>\n",
       "</table>\n"
      ],
      "text/latex": [
       "A matrix: 7 × 2 of type dbl\n",
       "\\begin{tabular}{r|ll}\n",
       "  & \\%IncMSE & IncNodePurity\\\\\n",
       "\\hline\n",
       "\tage &  98.3117846 & 13357136656\\\\\n",
       "\tbmi &  57.4165909 & 17544893366\\\\\n",
       "\tchildren &  17.1206991 &   722821265\\\\\n",
       "\tsmoker\\_yes & 152.1224945 & 95934902270\\\\\n",
       "\tregion\\_northwest &   0.2025584 &    29060741\\\\\n",
       "\tregion\\_southeast &  -0.9306594 &    48029142\\\\\n",
       "\tregion\\_southwest &   1.1597559 &    34832693\\\\\n",
       "\\end{tabular}\n"
      ],
      "text/markdown": [
       "\n",
       "A matrix: 7 × 2 of type dbl\n",
       "\n",
       "| <!--/--> | %IncMSE | IncNodePurity |\n",
       "|---|---|---|\n",
       "| age |  98.3117846 | 13357136656 |\n",
       "| bmi |  57.4165909 | 17544893366 |\n",
       "| children |  17.1206991 |   722821265 |\n",
       "| smoker_yes | 152.1224945 | 95934902270 |\n",
       "| region_northwest |   0.2025584 |    29060741 |\n",
       "| region_southeast |  -0.9306594 |    48029142 |\n",
       "| region_southwest |   1.1597559 |    34832693 |\n",
       "\n"
      ],
      "text/plain": [
       "                 %IncMSE     IncNodePurity\n",
       "age               98.3117846 13357136656  \n",
       "bmi               57.4165909 17544893366  \n",
       "children          17.1206991   722821265  \n",
       "smoker_yes       152.1224945 95934902270  \n",
       "region_northwest   0.2025584    29060741  \n",
       "region_southeast  -0.9306594    48029142  \n",
       "region_southwest   1.1597559    34832693  "
      ]
     },
     "metadata": {}
    }
   ],
   "metadata": {}
  },
  {
   "cell_type": "code",
   "execution_count": 131,
   "source": [
    "varImportance <- data.frame(Variables = row.names(importance), Importance = round(importance[,'IncNodePurity'], 2))"
   ],
   "outputs": [],
   "metadata": {}
  },
  {
   "cell_type": "code",
   "execution_count": 133,
   "source": [
    "rankImportance <- varImportance %>% mutate(Rank = paste0('#', dense_rank(desc(Importance))))"
   ],
   "outputs": [],
   "metadata": {}
  },
  {
   "cell_type": "code",
   "execution_count": 135,
   "source": [
    "ggplot(rankImportance, aes(x = reorder(Variables, Importance), y = Importance, fill = Importance)) + geom_bar(stat = 'identity') + geom_text(aes(x=Variables, y = 0.5, label = Rank), hjust = 0, vjust = 0.55, size = 4, colour = \"red\") + labs(x = 'Variables') + coord_flip()"
   ],
   "outputs": [
    {
     "output_type": "display_data",
     "data": {
      "image/png": "[encoded data removed]",
      "text/plain": [
       "plot without title"
      ]
     },
     "metadata": {
      "image/png": {
       "width": 420,
       "height": 420
      }
     }
    }
   ],
   "metadata": {}
  },
  {
   "cell_type": "markdown",
   "source": [
    "### Interpretation:\r\n",
    "- %IncMSE: This shows how much our model accuracy will be decrease if I leave out that variable. In this case, if I remove smoker_yes variables, the accuracy of the model will decrease a lot so this variable is the most important variable and this is in accordance with the EDA have I done that customers who smoke will have higher charges than those who don't. Beside that, there is age and bmi variable which is quite important but not as important as smoker\r\n",
    "- IncNodePurity: This is measure a variable importance based on the Gini Impurity index used for the calculating the splits in trees and the result still same, smoker is the most influential variable in determining charges for customers "
   ],
   "metadata": {}
  },
  {
   "cell_type": "markdown",
   "source": [
    "## Save The Model:\r\n",
    "I will save the model so that it can be deployed to predict customers charges for medical insurance. I save the model in .RData form "
   ],
   "metadata": {}
  },
  {
   "cell_type": "code",
   "execution_count": 139,
   "source": [
    "save(rfTreeTuning, file = \"Deployment/API/model.RData\")"
   ],
   "outputs": [],
   "metadata": {}
  },
  {
   "cell_type": "markdown",
   "source": [
    "## Thank You!\r\n",
    "For now, this project stops here first. However, in the future I will continue the project to carry out deployment "
   ],
   "metadata": {}
  }
 ],
 "metadata": {
  "orig_nbformat": 4,
  "language_info": {
   "name": "R",
   "codemirror_mode": "r",
   "pygments_lexer": "r",
   "mimetype": "text/x-r-source",
   "file_extension": ".r",
   "version": "4.1.1"
  },
  "kernelspec": {
   "name": "ir",
   "display_name": "R",
   "language": "R"
  }
 },
 "nbformat": 4,
 "nbformat_minor": 2
}