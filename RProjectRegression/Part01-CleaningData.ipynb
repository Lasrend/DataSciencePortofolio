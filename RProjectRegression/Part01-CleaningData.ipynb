{
 "cells": [
  {
   "cell_type": "markdown",
   "source": [
    "# Part 1: Cleaning Data\r\n",
    "Based on Data Science Methodology, in this part I will do Business Understanding, Analytic Approach, Data Requirement, Data Collection, Data Understanding, and Data Preparation"
   ],
   "metadata": {}
  },
  {
   "cell_type": "markdown",
   "source": [
    "## <h2 style=\"text-align:center\">Data Science Methodology</h2>\r\n",
    "<p>\r\n",
    "<center><img src=\"https://miro.medium.com/max/1838/1*YPsZO50dIiEKpW9RqzqsTw.jpeg\" alt = \"Data Science Methodology\" width = \"400\" height = \"300\"></center>\r\n",
    "<ol>\r\n",
    "<li><strong>Business Understanding:</strong>\r\n",
    "<p> Medical insurance is something important for us to get financial freedom. If we have something that threatens our lives, such as illness, accident, and etc., medical insurance will cover all our medical expenses for whatever the cost and to get this services, we have to pay an medical insurance fee every month. However, the problem faced by company that provide medical insurance. Companies face uncertainty about medical cost. Medical cost increase every year, while the insurance fee of each customer if it is increased to the rising medical cost, of course the company will lose customers. To overcome this problem, companies usually take into account the risk of each customer to get insurance fee that are in accordance with the risk profile of each customer.\r\n",
    "<p> From this problem, I want to answer some question:\r\n",
    "<ul>\r\n",
    "<li>What features are the most influential in determining the insurance fee of each customer?</li>\r\n",
    "<li>Can I determine the insurance fee of each customer automatically?</li>\r\n",
    "</ul>\r\n",
    "</li>\r\n",
    "\r\n",
    "\r\n",
    "<p>\r\n",
    "<li><strong>Analytic Approach:</strong>\r\n",
    "<p>To answer that question, Analytic Approach that I use is machine learning model and I can use supervised model that can solve Regression problem, such as linear, ridge, or lasso. Using machine learning model, I can know what feature are most influential and I can determine insurance fee automatically\r\n",
    "</li>\r\n",
    "\r\n",
    "<p>\r\n",
    "<li><strong>Data Requirements:</strong>\r\n",
    "<p>Data that I need is historical data about customers insurance fee with their demographic, such as sex, bmi, smoking, etc.\r\n",
    "</li>\r\n",
    "\r\n",
    "<p>\r\n",
    "<li><strong>Data Collection:</strong>\r\n",
    "<p>Unfortunately, data about insurance fee and their demographic from each company confidential, but I found nice dataset from <strong>Kaggle</strong> about <a href = \"https://www.kaggle.com/mirichoi0218/insurance?ref=hackernoon.com\">Medical Cost Personal Dataset</a> from <strong>Zack Stedy</strong>, he provides free dataset for anyone who wants to learn machine learning. \r\n",
    "</ol>"
   ],
   "metadata": {}
  },
  {
   "cell_type": "markdown",
   "source": [
    "## <strong>5. Data Understanding:</strong>\r\n",
    "<p>The first thing I do in this stage is understand the features in my data. For the next steps, probably I will back in this stage because Data Science Methology is iterative which allows us to return to certain stages "
   ],
   "metadata": {}
  },
  {
   "cell_type": "code",
   "execution_count": 1,
   "source": [
    "data <- read.csv(\"insurance.csv\")"
   ],
   "outputs": [],
   "metadata": {}
  },
  {
   "cell_type": "code",
   "execution_count": 2,
   "source": [
    "df <- data.frame(data);"
   ],
   "outputs": [],
   "metadata": {}
  },
  {
   "cell_type": "code",
   "execution_count": 3,
   "source": [
    "head(df)"
   ],
   "outputs": [
    {
     "output_type": "display_data",
     "data": {
      "text/html": [
       "<table class=\"dataframe\">\n",
       "<caption>A data.frame: 6 × 7</caption>\n",
       "<thead>\n",
       "\t<tr><th></th><th scope=col>age</th><th scope=col>sex</th><th scope=col>bmi</th><th scope=col>children</th><th scope=col>smoker</th><th scope=col>region</th><th scope=col>charges</th></tr>\n",
       "\t<tr><th></th><th scope=col>&lt;int&gt;</th><th scope=col>&lt;chr&gt;</th><th scope=col>&lt;dbl&gt;</th><th scope=col>&lt;int&gt;</th><th scope=col>&lt;chr&gt;</th><th scope=col>&lt;chr&gt;</th><th scope=col>&lt;dbl&gt;</th></tr>\n",
       "</thead>\n",
       "<tbody>\n",
       "\t<tr><th scope=row>1</th><td>19</td><td>female</td><td>27.900</td><td>0</td><td>yes</td><td>southwest</td><td>16884.924</td></tr>\n",
       "\t<tr><th scope=row>2</th><td>18</td><td>male  </td><td>33.770</td><td>1</td><td>no </td><td>southeast</td><td> 1725.552</td></tr>\n",
       "\t<tr><th scope=row>3</th><td>28</td><td>male  </td><td>33.000</td><td>3</td><td>no </td><td>southeast</td><td> 4449.462</td></tr>\n",
       "\t<tr><th scope=row>4</th><td>33</td><td>male  </td><td>22.705</td><td>0</td><td>no </td><td>northwest</td><td>21984.471</td></tr>\n",
       "\t<tr><th scope=row>5</th><td>32</td><td>male  </td><td>28.880</td><td>0</td><td>no </td><td>northwest</td><td> 3866.855</td></tr>\n",
       "\t<tr><th scope=row>6</th><td>31</td><td>female</td><td>25.740</td><td>0</td><td>no </td><td>southeast</td><td> 3756.622</td></tr>\n",
       "</tbody>\n",
       "</table>\n"
      ],
      "text/latex": [
       "A data.frame: 6 × 7\n",
       "\\begin{tabular}{r|lllllll}\n",
       "  & age & sex & bmi & children & smoker & region & charges\\\\\n",
       "  & <int> & <chr> & <dbl> & <int> & <chr> & <chr> & <dbl>\\\\\n",
       "\\hline\n",
       "\t1 & 19 & female & 27.900 & 0 & yes & southwest & 16884.924\\\\\n",
       "\t2 & 18 & male   & 33.770 & 1 & no  & southeast &  1725.552\\\\\n",
       "\t3 & 28 & male   & 33.000 & 3 & no  & southeast &  4449.462\\\\\n",
       "\t4 & 33 & male   & 22.705 & 0 & no  & northwest & 21984.471\\\\\n",
       "\t5 & 32 & male   & 28.880 & 0 & no  & northwest &  3866.855\\\\\n",
       "\t6 & 31 & female & 25.740 & 0 & no  & southeast &  3756.622\\\\\n",
       "\\end{tabular}\n"
      ],
      "text/markdown": [
       "\n",
       "A data.frame: 6 × 7\n",
       "\n",
       "| <!--/--> | age &lt;int&gt; | sex &lt;chr&gt; | bmi &lt;dbl&gt; | children &lt;int&gt; | smoker &lt;chr&gt; | region &lt;chr&gt; | charges &lt;dbl&gt; |\n",
       "|---|---|---|---|---|---|---|---|\n",
       "| 1 | 19 | female | 27.900 | 0 | yes | southwest | 16884.924 |\n",
       "| 2 | 18 | male   | 33.770 | 1 | no  | southeast |  1725.552 |\n",
       "| 3 | 28 | male   | 33.000 | 3 | no  | southeast |  4449.462 |\n",
       "| 4 | 33 | male   | 22.705 | 0 | no  | northwest | 21984.471 |\n",
       "| 5 | 32 | male   | 28.880 | 0 | no  | northwest |  3866.855 |\n",
       "| 6 | 31 | female | 25.740 | 0 | no  | southeast |  3756.622 |\n",
       "\n"
      ],
      "text/plain": [
       "  age sex    bmi    children smoker region    charges  \n",
       "1 19  female 27.900 0        yes    southwest 16884.924\n",
       "2 18  male   33.770 1        no     southeast  1725.552\n",
       "3 28  male   33.000 3        no     southeast  4449.462\n",
       "4 33  male   22.705 0        no     northwest 21984.471\n",
       "5 32  male   28.880 0        no     northwest  3866.855\n",
       "6 31  female 25.740 0        no     southeast  3756.622"
      ]
     },
     "metadata": {}
    }
   ],
   "metadata": {}
  },
  {
   "cell_type": "code",
   "execution_count": 4,
   "source": [
    "str(df)"
   ],
   "outputs": [
    {
     "output_type": "stream",
     "name": "stdout",
     "text": [
      "'data.frame':\t1338 obs. of  7 variables:\n",
      " $ age     : int  19 18 28 33 32 31 46 37 37 60 ...\n",
      " $ sex     : chr  \"female\" \"male\" \"male\" \"male\" ...\n",
      " $ bmi     : num  27.9 33.8 33 22.7 28.9 ...\n",
      " $ children: int  0 1 3 0 0 0 1 3 2 0 ...\n",
      " $ smoker  : chr  \"yes\" \"no\" \"no\" \"no\" ...\n",
      " $ region  : chr  \"southwest\" \"southeast\" \"southeast\" \"northwest\" ...\n",
      " $ charges : num  16885 1726 4449 21984 3867 ...\n"
     ]
    }
   ],
   "metadata": {}
  },
  {
   "cell_type": "markdown",
   "source": [
    "- From the code above we can find out what features I have (7 features), the numbers of instances (1338 instances), and the type of data on each feature\r\n",
    "- Description about my features:\r\n",
    "    - age(int) : age of customer\r\n",
    "    - sex(chr): gender of customer\r\n",
    "    - bmi(num): Body mass index (kg / m ^ 2)\r\n",
    "    - children(int): Number of children covered by health insurance\r\n",
    "    - smoker(chr): Smoking\r\n",
    "    - region(chr): the beneficiary's residential area in the US(northeast, southeast, southwest, northwest)\r\n",
    "    - charges(num): Individual medical costs billed by health insurance\r\n",
    "- In this stage, I undestand some things about my dataset:\r\n",
    "    - My dataset is taken from US\r\n",
    "    - BMI is taken to find out whether the customer has obesity or not:\r\n",
    "        - Below 18.5: Underweight\r\n",
    "        - 18.5 - 24.9: Healthy\r\n",
    "        - 25.0 - 29.9: Overweight\r\n",
    "        - Above 30: Obese\r\n",
    "    - Smoking status is taken because most likely people who like to smoke have a tendency to get cancer"
   ],
   "metadata": {}
  },
  {
   "cell_type": "markdown",
   "source": [
    "## Check Missing Value:\r\n",
    "- In this stage, I will check if there is a missing value or not"
   ],
   "metadata": {}
  },
  {
   "cell_type": "code",
   "execution_count": 5,
   "source": [
    "sprintf(\"Number of missing value in this dataset: %d\", sum(is.na(df)))"
   ],
   "outputs": [
    {
     "output_type": "display_data",
     "data": {
      "text/html": [
       "'Number of missing value in this dataset: 0'"
      ],
      "text/latex": [
       "'Number of missing value in this dataset: 0'"
      ],
      "text/markdown": [
       "'Number of missing value in this dataset: 0'"
      ],
      "text/plain": [
       "[1] \"Number of missing value in this dataset: 0\""
      ]
     },
     "metadata": {}
    }
   ],
   "metadata": {}
  },
  {
   "cell_type": "markdown",
   "source": [
    "Fortunately, this dataset has no missing value. So, I can skip \"Cleaning Missing Value\" step"
   ],
   "metadata": {}
  },
  {
   "cell_type": "markdown",
   "source": [
    "## Check Duplicate Value:\r\n",
    "- Beside missing value, I need to check duplicate values"
   ],
   "metadata": {}
  },
  {
   "cell_type": "code",
   "execution_count": 6,
   "source": [
    "sprintf(\"Number of duplicated value in this dataset: %d\", sum(duplicated(df)))"
   ],
   "outputs": [
    {
     "output_type": "display_data",
     "data": {
      "text/html": [
       "'Number of duplicated value in this dataset: 1'"
      ],
      "text/latex": [
       "'Number of duplicated value in this dataset: 1'"
      ],
      "text/markdown": [
       "'Number of duplicated value in this dataset: 1'"
      ],
      "text/plain": [
       "[1] \"Number of duplicated value in this dataset: 1\""
      ]
     },
     "metadata": {}
    }
   ],
   "metadata": {}
  },
  {
   "cell_type": "code",
   "execution_count": 7,
   "source": [
    "df[duplicated(df),]"
   ],
   "outputs": [
    {
     "output_type": "display_data",
     "data": {
      "text/html": [
       "<table class=\"dataframe\">\n",
       "<caption>A data.frame: 1 × 7</caption>\n",
       "<thead>\n",
       "\t<tr><th></th><th scope=col>age</th><th scope=col>sex</th><th scope=col>bmi</th><th scope=col>children</th><th scope=col>smoker</th><th scope=col>region</th><th scope=col>charges</th></tr>\n",
       "\t<tr><th></th><th scope=col>&lt;int&gt;</th><th scope=col>&lt;chr&gt;</th><th scope=col>&lt;dbl&gt;</th><th scope=col>&lt;int&gt;</th><th scope=col>&lt;chr&gt;</th><th scope=col>&lt;chr&gt;</th><th scope=col>&lt;dbl&gt;</th></tr>\n",
       "</thead>\n",
       "<tbody>\n",
       "\t<tr><th scope=row>582</th><td>19</td><td>male</td><td>30.59</td><td>0</td><td>no</td><td>northwest</td><td>1639.563</td></tr>\n",
       "</tbody>\n",
       "</table>\n"
      ],
      "text/latex": [
       "A data.frame: 1 × 7\n",
       "\\begin{tabular}{r|lllllll}\n",
       "  & age & sex & bmi & children & smoker & region & charges\\\\\n",
       "  & <int> & <chr> & <dbl> & <int> & <chr> & <chr> & <dbl>\\\\\n",
       "\\hline\n",
       "\t582 & 19 & male & 30.59 & 0 & no & northwest & 1639.563\\\\\n",
       "\\end{tabular}\n"
      ],
      "text/markdown": [
       "\n",
       "A data.frame: 1 × 7\n",
       "\n",
       "| <!--/--> | age &lt;int&gt; | sex &lt;chr&gt; | bmi &lt;dbl&gt; | children &lt;int&gt; | smoker &lt;chr&gt; | region &lt;chr&gt; | charges &lt;dbl&gt; |\n",
       "|---|---|---|---|---|---|---|---|\n",
       "| 582 | 19 | male | 30.59 | 0 | no | northwest | 1639.563 |\n",
       "\n"
      ],
      "text/plain": [
       "    age sex  bmi   children smoker region    charges \n",
       "582 19  male 30.59 0        no     northwest 1639.563"
      ]
     },
     "metadata": {}
    }
   ],
   "metadata": {}
  },
  {
   "cell_type": "markdown",
   "source": [
    "There is 1 duplicate value in this data, so I will drop that duplicate"
   ],
   "metadata": {}
  },
  {
   "cell_type": "markdown",
   "source": [
    "## Check Summary Dataframe:\r\n",
    "- There is probability that this dataset have invalid input data. To avoid that, I will check summary dataset"
   ],
   "metadata": {}
  },
  {
   "cell_type": "code",
   "execution_count": 8,
   "source": [
    "summary(df)"
   ],
   "outputs": [
    {
     "output_type": "display_data",
     "data": {
      "text/plain": [
       "      age            sex                 bmi           children    \n",
       " Min.   :18.00   Length:1338        Min.   :15.96   Min.   :0.000  \n",
       " 1st Qu.:27.00   Class :character   1st Qu.:26.30   1st Qu.:0.000  \n",
       " Median :39.00   Mode  :character   Median :30.40   Median :1.000  \n",
       " Mean   :39.21                      Mean   :30.66   Mean   :1.095  \n",
       " 3rd Qu.:51.00                      3rd Qu.:34.69   3rd Qu.:2.000  \n",
       " Max.   :64.00                      Max.   :53.13   Max.   :5.000  \n",
       "    smoker             region             charges     \n",
       " Length:1338        Length:1338        Min.   : 1122  \n",
       " Class :character   Class :character   1st Qu.: 4740  \n",
       " Mode  :character   Mode  :character   Median : 9382  \n",
       "                                       Mean   :13270  \n",
       "                                       3rd Qu.:16640  \n",
       "                                       Max.   :63770  "
      ]
     },
     "metadata": {}
    }
   ],
   "metadata": {}
  },
  {
   "cell_type": "markdown",
   "source": [
    "All summary data looks make senses and it can be assumed that this data does not have invalid input "
   ],
   "metadata": {}
  },
  {
   "cell_type": "markdown",
   "source": [
    "## <strong>6. Data Preparation:</strong>\r\n",
    "<p>After I checked what do I need to check, I need to clean this dataset. The cleaning process is deleting duplicate values only and I will save the result of the cleaning in new CSV file"
   ],
   "metadata": {}
  },
  {
   "cell_type": "code",
   "execution_count": 9,
   "source": [
    "dfclean <- unique(df)"
   ],
   "outputs": [],
   "metadata": {}
  },
  {
   "cell_type": "code",
   "execution_count": 10,
   "source": [
    "head(dfclean)"
   ],
   "outputs": [
    {
     "output_type": "display_data",
     "data": {
      "text/html": [
       "<table class=\"dataframe\">\n",
       "<caption>A data.frame: 6 × 7</caption>\n",
       "<thead>\n",
       "\t<tr><th></th><th scope=col>age</th><th scope=col>sex</th><th scope=col>bmi</th><th scope=col>children</th><th scope=col>smoker</th><th scope=col>region</th><th scope=col>charges</th></tr>\n",
       "\t<tr><th></th><th scope=col>&lt;int&gt;</th><th scope=col>&lt;chr&gt;</th><th scope=col>&lt;dbl&gt;</th><th scope=col>&lt;int&gt;</th><th scope=col>&lt;chr&gt;</th><th scope=col>&lt;chr&gt;</th><th scope=col>&lt;dbl&gt;</th></tr>\n",
       "</thead>\n",
       "<tbody>\n",
       "\t<tr><th scope=row>1</th><td>19</td><td>female</td><td>27.900</td><td>0</td><td>yes</td><td>southwest</td><td>16884.924</td></tr>\n",
       "\t<tr><th scope=row>2</th><td>18</td><td>male  </td><td>33.770</td><td>1</td><td>no </td><td>southeast</td><td> 1725.552</td></tr>\n",
       "\t<tr><th scope=row>3</th><td>28</td><td>male  </td><td>33.000</td><td>3</td><td>no </td><td>southeast</td><td> 4449.462</td></tr>\n",
       "\t<tr><th scope=row>4</th><td>33</td><td>male  </td><td>22.705</td><td>0</td><td>no </td><td>northwest</td><td>21984.471</td></tr>\n",
       "\t<tr><th scope=row>5</th><td>32</td><td>male  </td><td>28.880</td><td>0</td><td>no </td><td>northwest</td><td> 3866.855</td></tr>\n",
       "\t<tr><th scope=row>6</th><td>31</td><td>female</td><td>25.740</td><td>0</td><td>no </td><td>southeast</td><td> 3756.622</td></tr>\n",
       "</tbody>\n",
       "</table>\n"
      ],
      "text/latex": [
       "A data.frame: 6 × 7\n",
       "\\begin{tabular}{r|lllllll}\n",
       "  & age & sex & bmi & children & smoker & region & charges\\\\\n",
       "  & <int> & <chr> & <dbl> & <int> & <chr> & <chr> & <dbl>\\\\\n",
       "\\hline\n",
       "\t1 & 19 & female & 27.900 & 0 & yes & southwest & 16884.924\\\\\n",
       "\t2 & 18 & male   & 33.770 & 1 & no  & southeast &  1725.552\\\\\n",
       "\t3 & 28 & male   & 33.000 & 3 & no  & southeast &  4449.462\\\\\n",
       "\t4 & 33 & male   & 22.705 & 0 & no  & northwest & 21984.471\\\\\n",
       "\t5 & 32 & male   & 28.880 & 0 & no  & northwest &  3866.855\\\\\n",
       "\t6 & 31 & female & 25.740 & 0 & no  & southeast &  3756.622\\\\\n",
       "\\end{tabular}\n"
      ],
      "text/markdown": [
       "\n",
       "A data.frame: 6 × 7\n",
       "\n",
       "| <!--/--> | age &lt;int&gt; | sex &lt;chr&gt; | bmi &lt;dbl&gt; | children &lt;int&gt; | smoker &lt;chr&gt; | region &lt;chr&gt; | charges &lt;dbl&gt; |\n",
       "|---|---|---|---|---|---|---|---|\n",
       "| 1 | 19 | female | 27.900 | 0 | yes | southwest | 16884.924 |\n",
       "| 2 | 18 | male   | 33.770 | 1 | no  | southeast |  1725.552 |\n",
       "| 3 | 28 | male   | 33.000 | 3 | no  | southeast |  4449.462 |\n",
       "| 4 | 33 | male   | 22.705 | 0 | no  | northwest | 21984.471 |\n",
       "| 5 | 32 | male   | 28.880 | 0 | no  | northwest |  3866.855 |\n",
       "| 6 | 31 | female | 25.740 | 0 | no  | southeast |  3756.622 |\n",
       "\n"
      ],
      "text/plain": [
       "  age sex    bmi    children smoker region    charges  \n",
       "1 19  female 27.900 0        yes    southwest 16884.924\n",
       "2 18  male   33.770 1        no     southeast  1725.552\n",
       "3 28  male   33.000 3        no     southeast  4449.462\n",
       "4 33  male   22.705 0        no     northwest 21984.471\n",
       "5 32  male   28.880 0        no     northwest  3866.855\n",
       "6 31  female 25.740 0        no     southeast  3756.622"
      ]
     },
     "metadata": {}
    }
   ],
   "metadata": {}
  },
  {
   "cell_type": "code",
   "execution_count": 11,
   "source": [
    "write.csv(dfclean, \"insuranceDataCleaned.csv\", row.names=F)"
   ],
   "outputs": [],
   "metadata": {}
  }
 ],
 "metadata": {
  "orig_nbformat": 4,
  "language_info": {
   "name": "R",
   "codemirror_mode": "r",
   "pygments_lexer": "r",
   "mimetype": "text/x-r-source",
   "file_extension": ".r",
   "version": "4.1.1"
  },
  "kernelspec": {
   "name": "ir",
   "display_name": "R",
   "language": "R"
  }
 },
 "nbformat": 4,
 "nbformat_minor": 2
}