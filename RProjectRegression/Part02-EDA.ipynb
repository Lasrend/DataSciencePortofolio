{
 "cells": [
  {
   "cell_type": "markdown",
   "source": [
    "# Part 02: Exploratory Data Analysis (EDA)\r\n",
    "Before I going enter the modeling stage, I will going back to Data Understanding stage. In Data Understanding stage, I want to explore and find pattern between independent variable and dependent variable and from this stage I can find out whether I need feature engineering or not and what model I should use. All of these things can sometimes be called EDA (Exploratory Data Analysis)"
   ],
   "metadata": {}
  },
  {
   "cell_type": "markdown",
   "source": [
    "## EDA:\r\n",
    "<center><img src = \"https://editor.analyticsvidhya.com/uploads/24537Zoom-EDA.png\" alt = \"EDA\"></center>"
   ],
   "metadata": {}
  },
  {
   "cell_type": "markdown",
   "source": [
    "## Library"
   ],
   "metadata": {}
  },
  {
   "cell_type": "code",
   "execution_count": 35,
   "source": [
    "library(ggplot2)"
   ],
   "outputs": [],
   "metadata": {}
  },
  {
   "cell_type": "code",
   "execution_count": 36,
   "source": [
    "library(GGally)"
   ],
   "outputs": [],
   "metadata": {}
  },
  {
   "cell_type": "code",
   "execution_count": 37,
   "source": [
    "library(dplyr)"
   ],
   "outputs": [],
   "metadata": {}
  },
  {
   "cell_type": "markdown",
   "source": [
    "## Option"
   ],
   "metadata": {}
  },
  {
   "cell_type": "code",
   "execution_count": 38,
   "source": [
    "options(repr.plot.width = 5, repr.plot.height = 4)"
   ],
   "outputs": [],
   "metadata": {}
  },
  {
   "cell_type": "markdown",
   "source": [
    "## 1. Load Data:\r\n",
    "First, I will load the data and see the summary descriptive statistics of dataset"
   ],
   "metadata": {}
  },
  {
   "cell_type": "code",
   "execution_count": 39,
   "source": [
    "data <- read.csv(\"insuranceDataCleaned.csv\")"
   ],
   "outputs": [],
   "metadata": {}
  },
  {
   "cell_type": "code",
   "execution_count": 40,
   "source": [
    "df <- data.frame(data)"
   ],
   "outputs": [],
   "metadata": {}
  },
  {
   "cell_type": "code",
   "execution_count": 41,
   "source": [
    "head(df)"
   ],
   "outputs": [
    {
     "output_type": "display_data",
     "data": {
      "text/html": [
       "<table class=\"dataframe\">\n",
       "<caption>A data.frame: 6 × 7</caption>\n",
       "<thead>\n",
       "\t<tr><th></th><th scope=col>age</th><th scope=col>sex</th><th scope=col>bmi</th><th scope=col>children</th><th scope=col>smoker</th><th scope=col>region</th><th scope=col>charges</th></tr>\n",
       "\t<tr><th></th><th scope=col>&lt;int&gt;</th><th scope=col>&lt;chr&gt;</th><th scope=col>&lt;dbl&gt;</th><th scope=col>&lt;int&gt;</th><th scope=col>&lt;chr&gt;</th><th scope=col>&lt;chr&gt;</th><th scope=col>&lt;dbl&gt;</th></tr>\n",
       "</thead>\n",
       "<tbody>\n",
       "\t<tr><th scope=row>1</th><td>19</td><td>female</td><td>27.900</td><td>0</td><td>yes</td><td>southwest</td><td>16884.924</td></tr>\n",
       "\t<tr><th scope=row>2</th><td>18</td><td>male  </td><td>33.770</td><td>1</td><td>no </td><td>southeast</td><td> 1725.552</td></tr>\n",
       "\t<tr><th scope=row>3</th><td>28</td><td>male  </td><td>33.000</td><td>3</td><td>no </td><td>southeast</td><td> 4449.462</td></tr>\n",
       "\t<tr><th scope=row>4</th><td>33</td><td>male  </td><td>22.705</td><td>0</td><td>no </td><td>northwest</td><td>21984.471</td></tr>\n",
       "\t<tr><th scope=row>5</th><td>32</td><td>male  </td><td>28.880</td><td>0</td><td>no </td><td>northwest</td><td> 3866.855</td></tr>\n",
       "\t<tr><th scope=row>6</th><td>31</td><td>female</td><td>25.740</td><td>0</td><td>no </td><td>southeast</td><td> 3756.622</td></tr>\n",
       "</tbody>\n",
       "</table>\n"
      ],
      "text/latex": [
       "A data.frame: 6 × 7\n",
       "\\begin{tabular}{r|lllllll}\n",
       "  & age & sex & bmi & children & smoker & region & charges\\\\\n",
       "  & <int> & <chr> & <dbl> & <int> & <chr> & <chr> & <dbl>\\\\\n",
       "\\hline\n",
       "\t1 & 19 & female & 27.900 & 0 & yes & southwest & 16884.924\\\\\n",
       "\t2 & 18 & male   & 33.770 & 1 & no  & southeast &  1725.552\\\\\n",
       "\t3 & 28 & male   & 33.000 & 3 & no  & southeast &  4449.462\\\\\n",
       "\t4 & 33 & male   & 22.705 & 0 & no  & northwest & 21984.471\\\\\n",
       "\t5 & 32 & male   & 28.880 & 0 & no  & northwest &  3866.855\\\\\n",
       "\t6 & 31 & female & 25.740 & 0 & no  & southeast &  3756.622\\\\\n",
       "\\end{tabular}\n"
      ],
      "text/markdown": [
       "\n",
       "A data.frame: 6 × 7\n",
       "\n",
       "| <!--/--> | age &lt;int&gt; | sex &lt;chr&gt; | bmi &lt;dbl&gt; | children &lt;int&gt; | smoker &lt;chr&gt; | region &lt;chr&gt; | charges &lt;dbl&gt; |\n",
       "|---|---|---|---|---|---|---|---|\n",
       "| 1 | 19 | female | 27.900 | 0 | yes | southwest | 16884.924 |\n",
       "| 2 | 18 | male   | 33.770 | 1 | no  | southeast |  1725.552 |\n",
       "| 3 | 28 | male   | 33.000 | 3 | no  | southeast |  4449.462 |\n",
       "| 4 | 33 | male   | 22.705 | 0 | no  | northwest | 21984.471 |\n",
       "| 5 | 32 | male   | 28.880 | 0 | no  | northwest |  3866.855 |\n",
       "| 6 | 31 | female | 25.740 | 0 | no  | southeast |  3756.622 |\n",
       "\n"
      ],
      "text/plain": [
       "  age sex    bmi    children smoker region    charges  \n",
       "1 19  female 27.900 0        yes    southwest 16884.924\n",
       "2 18  male   33.770 1        no     southeast  1725.552\n",
       "3 28  male   33.000 3        no     southeast  4449.462\n",
       "4 33  male   22.705 0        no     northwest 21984.471\n",
       "5 32  male   28.880 0        no     northwest  3866.855\n",
       "6 31  female 25.740 0        no     southeast  3756.622"
      ]
     },
     "metadata": {}
    }
   ],
   "metadata": {}
  },
  {
   "cell_type": "markdown",
   "source": [
    "There is character data type in dataset. In order to be used for summary descriptive statistic, it must be converted into a factor"
   ],
   "metadata": {}
  },
  {
   "cell_type": "code",
   "execution_count": 42,
   "source": [
    "df$smoker <- factor(df$smoker)"
   ],
   "outputs": [],
   "metadata": {}
  },
  {
   "cell_type": "code",
   "execution_count": 43,
   "source": [
    "df$region <- factor(df$region)"
   ],
   "outputs": [],
   "metadata": {}
  },
  {
   "cell_type": "code",
   "execution_count": 44,
   "source": [
    "summary(df)"
   ],
   "outputs": [
    {
     "output_type": "display_data",
     "data": {
      "text/plain": [
       "      age            sex                 bmi           children     smoker    \n",
       " Min.   :18.00   Length:1337        Min.   :15.96   Min.   :0.000   no :1063  \n",
       " 1st Qu.:27.00   Class :character   1st Qu.:26.29   1st Qu.:0.000   yes: 274  \n",
       " Median :39.00   Mode  :character   Median :30.40   Median :1.000             \n",
       " Mean   :39.22                      Mean   :30.66   Mean   :1.096             \n",
       " 3rd Qu.:51.00                      3rd Qu.:34.70   3rd Qu.:2.000             \n",
       " Max.   :64.00                      Max.   :53.13   Max.   :5.000             \n",
       "       region       charges     \n",
       " northeast:324   Min.   : 1122  \n",
       " northwest:324   1st Qu.: 4746  \n",
       " southeast:364   Median : 9386  \n",
       " southwest:325   Mean   :13279  \n",
       "                 3rd Qu.:16658  \n",
       "                 Max.   :63770  "
      ]
     },
     "metadata": {}
    }
   ],
   "metadata": {}
  },
  {
   "cell_type": "markdown",
   "source": [
    "## 2. Univariate Analysis for Continous Variables:\r\n",
    "Usually in Univariate Analysis, I will do data visualization to understand each variable, such as:\r\n",
    "- Data distibution\r\n",
    "- Outliers"
   ],
   "metadata": {}
  },
  {
   "cell_type": "markdown",
   "source": [
    "### Age:"
   ],
   "metadata": {}
  },
  {
   "cell_type": "markdown",
   "source": [
    "<h3>Histogram Plot:</h3>\r\n",
    "<p>To check data distibution of numerical variable, I can use histogram plot"
   ],
   "metadata": {}
  },
  {
   "cell_type": "code",
   "execution_count": 45,
   "source": [
    "pl <- ggplot(df, aes(x=age)) + geom_histogram(aes(y=..density..),fill = 'cyan4', color = \"black\") + geom_density(color = \"red\") + xlab(\"Age\") + ylab(\"Count\") + ggtitle(\"Data Distribution of Age Variable\")"
   ],
   "outputs": [],
   "metadata": {}
  },
  {
   "cell_type": "code",
   "execution_count": 46,
   "source": [
    "print(pl)"
   ],
   "outputs": [
    {
     "output_type": "stream",
     "name": "stderr",
     "text": [
      "`stat_bin()` using `bins = 30`. Pick better value with `binwidth`.\n",
      "\n"
     ]
    },
    {
     "output_type": "display_data",
     "data": {
      "image/png": "[encoded data removed]",
      "text/plain": [
       "plot without title"
      ]
     },
     "metadata": {
      "image/png": {
       "width": 300,
       "height": 240
      }
     }
    }
   ],
   "metadata": {}
  },
  {
   "cell_type": "markdown",
   "source": [
    "<h3>Box Plot:</h3>\r\n",
    "<p>To check outliers, I can use box plot"
   ],
   "metadata": {}
  },
  {
   "cell_type": "code",
   "execution_count": 47,
   "source": [
    "pl <- ggplot(df, aes(x=age)) + geom_boxplot(fill = 'cyan3', color = \"black\") + ggtitle(\"Box Plot of Age Variable\")"
   ],
   "outputs": [],
   "metadata": {}
  },
  {
   "cell_type": "code",
   "execution_count": 48,
   "source": [
    "print(pl)"
   ],
   "outputs": [
    {
     "output_type": "display_data",
     "data": {
      "image/png": "[encoded data removed]",
      "text/plain": [
       "plot without title"
      ]
     },
     "metadata": {
      "image/png": {
       "width": 300,
       "height": 240
      }
     }
    }
   ],
   "metadata": {}
  },
  {
   "cell_type": "markdown",
   "source": [
    "- Age Variable not normally distributed\r\n",
    "- There is no outliers in Age Variable\r\n",
    "- Customer of this dataset are 18 - 64 "
   ],
   "metadata": {}
  },
  {
   "cell_type": "markdown",
   "source": [
    "### BMI:"
   ],
   "metadata": {}
  },
  {
   "cell_type": "markdown",
   "source": [
    "<h3>Histogram Plot:</h3>"
   ],
   "metadata": {}
  },
  {
   "cell_type": "code",
   "execution_count": 49,
   "source": [
    "pl <- ggplot(df, aes(x=bmi)) + geom_histogram(aes(y = ..density..),fill = 'cornsilk3', color = \"black\") + geom_density(color = \"red\") + xlab(\"BMI\") + ylab(\"Count\") + ggtitle(\"Data Distribution of BMI Variable\")"
   ],
   "outputs": [],
   "metadata": {}
  },
  {
   "cell_type": "code",
   "execution_count": 50,
   "source": [
    "print(pl)"
   ],
   "outputs": [
    {
     "output_type": "stream",
     "name": "stderr",
     "text": [
      "`stat_bin()` using `bins = 30`. Pick better value with `binwidth`.\n",
      "\n"
     ]
    },
    {
     "output_type": "display_data",
     "data": {
      "image/png": "[encoded data removed]",
      "text/plain": [
       "plot without title"
      ]
     },
     "metadata": {
      "image/png": {
       "width": 300,
       "height": 240
      }
     }
    }
   ],
   "metadata": {}
  },
  {
   "cell_type": "markdown",
   "source": [
    "<h3>Box Plot:</h3>"
   ],
   "metadata": {}
  },
  {
   "cell_type": "code",
   "execution_count": 51,
   "source": [
    "pl <- ggplot(df, aes(x=bmi)) + geom_boxplot(fill = 'cornsilk2', color = \"black\") + ggtitle(\"Box Plot of BMI Variable\")"
   ],
   "outputs": [],
   "metadata": {}
  },
  {
   "cell_type": "code",
   "execution_count": 52,
   "source": [
    "print(pl)"
   ],
   "outputs": [
    {
     "output_type": "display_data",
     "data": {
      "image/png": "[encoded data removed]",
      "text/plain": [
       "plot without title"
      ]
     },
     "metadata": {
      "image/png": {
       "width": 300,
       "height": 240
      }
     }
    }
   ],
   "metadata": {}
  },
  {
   "cell_type": "markdown",
   "source": [
    "- BMI Variable normally distributed\r\n",
    "- There is some outliers in BMI Variable\r\n",
    "- Customer of this dataset have bmi between 15.96 - 53.13 "
   ],
   "metadata": {}
  },
  {
   "cell_type": "markdown",
   "source": [
    "### Charges:"
   ],
   "metadata": {}
  },
  {
   "cell_type": "markdown",
   "source": [
    "<h3>Histogram Plot:</h3>"
   ],
   "metadata": {}
  },
  {
   "cell_type": "code",
   "execution_count": 53,
   "source": [
    "pl <- ggplot(df, aes(x=charges)) + geom_histogram(aes(y = ..density..),fill = 'aquamarine3', color = \"black\") + geom_density(color = \"red\") + xlab(\"Charges\") + ylab(\"Count\") + ggtitle(\"Data Distribution of Charges Variable\")"
   ],
   "outputs": [],
   "metadata": {}
  },
  {
   "cell_type": "code",
   "execution_count": 54,
   "source": [
    "print(pl)"
   ],
   "outputs": [
    {
     "output_type": "stream",
     "name": "stderr",
     "text": [
      "`stat_bin()` using `bins = 30`. Pick better value with `binwidth`.\n",
      "\n"
     ]
    },
    {
     "output_type": "display_data",
     "data": {
      "image/png": "[encoded data removed]",
      "text/plain": [
       "plot without title"
      ]
     },
     "metadata": {
      "image/png": {
       "width": 300,
       "height": 240
      }
     }
    }
   ],
   "metadata": {}
  },
  {
   "cell_type": "markdown",
   "source": [
    "<h3>Box Plot:</h3>"
   ],
   "metadata": {}
  },
  {
   "cell_type": "code",
   "execution_count": 55,
   "source": [
    "pl <- ggplot(df, aes(x=charges)) + geom_boxplot(fill = 'aquamarine2', color = \"black\") + ggtitle(\"Box Plot of Charges Variable\")"
   ],
   "outputs": [],
   "metadata": {}
  },
  {
   "cell_type": "code",
   "execution_count": 56,
   "source": [
    "print(pl)"
   ],
   "outputs": [
    {
     "output_type": "display_data",
     "data": {
      "image/png": "[encoded data removed]",
      "text/plain": [
       "plot without title"
      ]
     },
     "metadata": {
      "image/png": {
       "width": 300,
       "height": 240
      }
     }
    }
   ],
   "metadata": {}
  },
  {
   "cell_type": "markdown",
   "source": [
    "- Charges Variable not normally distributed\r\n",
    "- There is many outliers in Charges Variable\r\n",
    "- Range of this variable between 1120 - 63770 US dollars "
   ],
   "metadata": {}
  },
  {
   "cell_type": "markdown",
   "source": [
    "### Conclusion of Univariate Analysis for Continous Variables:\r\n",
    "- After this analysis, I think I need standar scaler in feature engineering because this dataset has outliers in some variables, especially dependent variable, and other that mostly variable not normally distributed\r\n",
    "- Besides that, I think when I want to check the correlation I need spearman method because I have non-parametric dataset, age and charges "
   ],
   "metadata": {}
  },
  {
   "cell_type": "markdown",
   "source": [
    "## Univariate Analysis for Discrete Variables:\r\n",
    "For discrete variables, I will use data visualization to see the amount of data from each value"
   ],
   "metadata": {}
  },
  {
   "cell_type": "markdown",
   "source": [
    "### Children"
   ],
   "metadata": {}
  },
  {
   "cell_type": "code",
   "execution_count": 57,
   "source": [
    "pl <- ggplot(df, aes(x=children)) + geom_bar(fill = 'pink1', color = \"black\") + xlab(\"Children\") + ylab(\"Count\") + ggtitle(\"Data Distribution of Children Variable\")"
   ],
   "outputs": [],
   "metadata": {}
  },
  {
   "cell_type": "code",
   "execution_count": 58,
   "source": [
    "print(pl)"
   ],
   "outputs": [
    {
     "output_type": "display_data",
     "data": {
      "image/png": "[encoded data removed]",
      "text/plain": [
       "plot without title"
      ]
     },
     "metadata": {
      "image/png": {
       "width": 300,
       "height": 240
      }
     }
    }
   ],
   "metadata": {}
  },
  {
   "cell_type": "markdown",
   "source": [
    "### Conculision of Univariate Analysis for Discrete Variables:\r\n",
    "- From this visualization, It can be seen that many customers in my dataset do not have children"
   ],
   "metadata": {}
  },
  {
   "cell_type": "markdown",
   "source": [
    "## Univariate Analysis for Qualitative Variables:\r\n",
    "- Same as before, I want to check data distribution for Qualitative Variables"
   ],
   "metadata": {}
  },
  {
   "cell_type": "markdown",
   "source": [
    "### Sex:"
   ],
   "metadata": {}
  },
  {
   "cell_type": "code",
   "execution_count": 59,
   "source": [
    "pl2 <- ggplot(df, aes(x=sex)) + geom_bar(fill = 'cadetblue2', color = \"black\") + xlab(\"Sex\") + ylab(\"Count\") + ggtitle(\"Count Plot of Sex Variable\")"
   ],
   "outputs": [],
   "metadata": {}
  },
  {
   "cell_type": "code",
   "execution_count": 60,
   "source": [
    "print(pl2)"
   ],
   "outputs": [
    {
     "output_type": "display_data",
     "data": {
      "image/png": "[encoded data removed]",
      "text/plain": [
       "plot without title"
      ]
     },
     "metadata": {
      "image/png": {
       "width": 300,
       "height": 240
      }
     }
    }
   ],
   "metadata": {}
  },
  {
   "cell_type": "markdown",
   "source": [
    "In my dataset, Sex variables has uniform distribution, either female or male have almost the same amount of data"
   ],
   "metadata": {}
  },
  {
   "cell_type": "markdown",
   "source": [
    "### Smoker:"
   ],
   "metadata": {}
  },
  {
   "cell_type": "code",
   "execution_count": 61,
   "source": [
    "pl2 <- ggplot(df, aes(x=smoker)) + geom_bar(fill = 'cadetblue3', color = \"black\") + xlab(\"Smoker\") + ylab(\"Count\") + ggtitle(\"Count Plot of Smoker Variable\")"
   ],
   "outputs": [],
   "metadata": {}
  },
  {
   "cell_type": "code",
   "execution_count": 62,
   "source": [
    "print(pl2)"
   ],
   "outputs": [
    {
     "output_type": "display_data",
     "data": {
      "image/png": "[encoded data removed]",
      "text/plain": [
       "plot without title"
      ]
     },
     "metadata": {
      "image/png": {
       "width": 300,
       "height": 240
      }
     }
    }
   ],
   "metadata": {}
  },
  {
   "cell_type": "markdown",
   "source": [
    "There is more non-smoker customer than smoker customer in my dataset"
   ],
   "metadata": {}
  },
  {
   "cell_type": "markdown",
   "source": [
    "### Region:"
   ],
   "metadata": {}
  },
  {
   "cell_type": "code",
   "execution_count": 63,
   "source": [
    "pl2 <- ggplot(df, aes(x=region)) + geom_bar(fill = 'cadetblue4', color = \"black\") + xlab(\"Regional\") + ylab(\"Count\") + ggtitle(\"Count Plot of Regional Variable\")"
   ],
   "outputs": [],
   "metadata": {}
  },
  {
   "cell_type": "code",
   "execution_count": 64,
   "source": [
    "print(pl2)"
   ],
   "outputs": [
    {
     "output_type": "display_data",
     "data": {
      "image/png": "[encoded data removed]",
      "text/plain": [
       "plot without title"
      ]
     },
     "metadata": {
      "image/png": {
       "width": 300,
       "height": 240
      }
     }
    }
   ],
   "metadata": {}
  },
  {
   "cell_type": "markdown",
   "source": [
    "For Regional variable, many of the customers come from Southeast. However, not too much different from the others"
   ],
   "metadata": {}
  },
  {
   "cell_type": "markdown",
   "source": [
    "### Conclusion of Univariate Analysis for Qualitative Variables:\r\n",
    "- From here, I found that qualitative variables can be encoded using only one hot encoding because the number of unique values is not much and I can use drop first because I will use regression model. \r\n",
    "- Beside that, there is some question that I want to find out:\r\n",
    "    - Is there a correlation between Qualitative Variables and Charge variables, especially in the region, I wonder if the average charge from each region is different or not much different? \r\n",
    "    - If there are differences for each region then the next question is why?"
   ],
   "metadata": {}
  },
  {
   "cell_type": "markdown",
   "source": [
    "## Bivariate Analysis for Numerical Variables:\r\n",
    "To simplify the analysis, I will use a pair plot\r\n"
   ],
   "metadata": {}
  },
  {
   "cell_type": "code",
   "execution_count": 65,
   "source": [
    "ggpairs(df, columns = c(\"age\", \"bmi\", \"children\", \"charges\"), lower=list(continuous=wrap(ggally_points, color = \"cornflowerblue\")))"
   ],
   "outputs": [
    {
     "output_type": "display_data",
     "data": {
      "image/png": "[encoded data removed]",
      "text/plain": [
       "plot without title"
      ]
     },
     "metadata": {
      "image/png": {
       "width": 300,
       "height": 240
      }
     }
    }
   ],
   "metadata": {}
  },
  {
   "cell_type": "markdown",
   "source": [
    "### Conclusion Bivariate Analysis for Numerical Variables:\r\n",
    "- Variables that have strongest correlation is between Age and Charge. It's make sense because usually customer who are no longer young more risky for chronic disease. Other than that, BMI and Charge is the second variable that has the strongest correlation and I think the reason not much different like Age and Charge, customer who have obesity are usually more risky for chronic disease\r\n",
    "- Even though, there is no strong correlation between all numerical value including Age and Charge (0.289) and BMI and Charge (0.198). To solve the problem, I think later in feature engineering I can use polynomial feature to get combination feature  "
   ],
   "metadata": {}
  },
  {
   "cell_type": "markdown",
   "source": [
    "## Bivariate Analysis for Qualitative Variables and Quantitativ Variable (Charges):"
   ],
   "metadata": {}
  },
  {
   "cell_type": "markdown",
   "source": [
    "### Sex and Charges:"
   ],
   "metadata": {}
  },
  {
   "cell_type": "code",
   "execution_count": 92,
   "source": [
    "df %>% group_by(sex) %>% summarise(mean = mean(charges)) %>% ggplot(aes(x  = sex, y = mean)) + geom_bar(stat = \"identity\", fill = \"orchid1\", color = \"black\") + ggtitle(\"Bivariate Analysis Sex and Charges\")"
   ],
   "outputs": [
    {
     "output_type": "display_data",
     "data": {
      "image/png": "[encoded data removed]",
      "text/plain": [
       "plot without title"
      ]
     },
     "metadata": {
      "image/png": {
       "width": 300,
       "height": 240
      }
     }
    }
   ],
   "metadata": {}
  },
  {
   "cell_type": "markdown",
   "source": [
    "### Smoker vs Charges:"
   ],
   "metadata": {}
  },
  {
   "cell_type": "code",
   "execution_count": 93,
   "source": [
    "df %>% group_by(smoker) %>% summarise(mean = mean(charges)) %>% ggplot(aes(x  = smoker, y = mean)) + geom_bar(stat = \"identity\", fill = \"seagreen2\", color = \"black\") + ggtitle(\"Bivariate Analysis Smoker and Charges\")"
   ],
   "outputs": [
    {
     "output_type": "display_data",
     "data": {
      "image/png": "[encoded data removed]",
      "text/plain": [
       "plot without title"
      ]
     },
     "metadata": {
      "image/png": {
       "width": 300,
       "height": 240
      }
     }
    }
   ],
   "metadata": {}
  },
  {
   "cell_type": "markdown",
   "source": [
    "### Region vs Charges:"
   ],
   "metadata": {}
  },
  {
   "cell_type": "code",
   "execution_count": 87,
   "source": [
    "df %>% group_by(region) %>% summarise(median = mean(charges)) %>% ggplot(aes(x  = region, y = median)) + geom_bar(stat = \"identity\", fill = \"royalblue2\", color = \"black\") + ggtitle(\"Bivariate Analysis Regional and Charges\")"
   ],
   "outputs": [
    {
     "output_type": "display_data",
     "data": {
      "image/png": "[encoded data removed]",
      "text/plain": [
       "plot without title"
      ]
     },
     "metadata": {
      "image/png": {
       "width": 300,
       "height": 240
      }
     }
    }
   ],
   "metadata": {}
  },
  {
   "cell_type": "markdown",
   "source": [
    "### Conclusion of Bivariate Analysis for Qualitative Variables and Quantitative Variables:\r\n",
    "- There is significant different between smoker and non-smoker. This company is very concern about smoker because according a lot of research smoking can increase the risk of getting cancer, especially lung. That's why customer who are smokers will have a bigger charge than non-smoker\r\n",
    "- There is slightly different mean charge between female and male. Probably, it happenned because many male customers are smokers or erderly than women. I have to think twice whether I should include sex variables or not in the model later because if I include sex variables in my model, my model will have bias about gender\r\n",
    "- Each regional has differences even thoughs it is not too significant as the smoker variables and regional which has the biggest charge value is southeast\r\n",
    "- I don't think this company more because of regional different, maybe in southeast regional is more customers are eldery, or smokers. Because of that, I will do Multivariate analysis to find out why southeast is the region that has highest charge."
   ],
   "metadata": {}
  },
  {
   "cell_type": "markdown",
   "source": [
    "## Multivariate Analysis:\r\n",
    "Multivariate analysis was conducted to find out why the northeast regional has the highest charge"
   ],
   "metadata": {}
  },
  {
   "cell_type": "markdown",
   "source": [
    "### Regional, Charge, and Smoker"
   ],
   "metadata": {}
  },
  {
   "cell_type": "code",
   "execution_count": 95,
   "source": [
    "df %>% group_by(region, smoker) %>% summarise(mean = mean(charges)) %>% ggplot(aes(x  = region, y = mean)) + geom_bar(stat = \"identity\", aes(fill = smoker), color = \"black\", position = \"dodge\") + ggtitle(\"Multivariate Analysis Regional, Charges, and Smoker\")"
   ],
   "outputs": [
    {
     "output_type": "stream",
     "name": "stderr",
     "text": [
      "`summarise()` has grouped output by 'region'. You can override using the `.groups` argument.\n",
      "\n"
     ]
    },
    {
     "output_type": "display_data",
     "data": {
      "image/png": "[encoded data removed]",
      "text/plain": [
       "plot without title"
      ]
     },
     "metadata": {
      "image/png": {
       "width": 300,
       "height": 240
      }
     }
    }
   ],
   "metadata": {}
  },
  {
   "cell_type": "markdown",
   "source": [
    "### Region, Charge, Smoker, and Age"
   ],
   "metadata": {}
  },
  {
   "cell_type": "code",
   "execution_count": 104,
   "source": [
    "pl4 <- ggplot(data = df, aes(x = age, y = charges)) + geom_point(aes(color = region,shape = smoker)) + xlab(\"Age\") + ylab(\"Charges\") + ggtitle(\"Multivariate Analysis Regional, Charges, Smoker, and Age\")"
   ],
   "outputs": [],
   "metadata": {}
  },
  {
   "cell_type": "code",
   "execution_count": 105,
   "source": [
    "print(pl4)"
   ],
   "outputs": [
    {
     "output_type": "display_data",
     "data": {
      "image/png": "[encoded data removed]",
      "text/plain": [
       "plot without title"
      ]
     },
     "metadata": {
      "image/png": {
       "width": 300,
       "height": 240
      }
     }
    }
   ],
   "metadata": {}
  },
  {
   "cell_type": "markdown",
   "source": [
    "### Region, Charge, Smoker, and BMI"
   ],
   "metadata": {}
  },
  {
   "cell_type": "code",
   "execution_count": 106,
   "source": [
    "pl4 <- ggplot(data = df, aes(x = bmi, y = charges)) + geom_point(aes(color = region,shape = smoker)) + xlab(\"BMI\") + ylab(\"Charges\") + ggtitle(\"Multivariate Analysis Regional, Charges, Smoker, and BMI\")"
   ],
   "outputs": [],
   "metadata": {}
  },
  {
   "cell_type": "code",
   "execution_count": 107,
   "source": [
    "print(pl4)"
   ],
   "outputs": [
    {
     "output_type": "display_data",
     "data": {
      "image/png": "[encoded data removed]",
      "text/plain": [
       "plot without title"
      ]
     },
     "metadata": {
      "image/png": {
       "width": 300,
       "height": 240
      }
     }
    }
   ],
   "metadata": {}
  },
  {
   "cell_type": "markdown",
   "source": [
    "### Conclusion of Multivariate Analysis:\r\n",
    "I think the main reason why southeast region has the highest charge is because many customers in southeast region are smokers. Whereas Age and BMI only supporting variables in determining charges of customer. In order to find out more deeply how much influence a variables have on charge, I will use machine learning regression algorithm, such as linear regression or decision tree regresor"
   ],
   "metadata": {}
  }
 ],
 "metadata": {
  "orig_nbformat": 4,
  "language_info": {
   "name": "R",
   "codemirror_mode": "r",
   "pygments_lexer": "r",
   "mimetype": "text/x-r-source",
   "file_extension": ".r",
   "version": "4.1.1"
  },
  "kernelspec": {
   "name": "ir",
   "display_name": "R",
   "language": "R"
  }
 },
 "nbformat": 4,
 "nbformat_minor": 2
}